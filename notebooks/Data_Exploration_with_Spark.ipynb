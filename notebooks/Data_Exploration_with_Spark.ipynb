{
  "nbformat": 4,
  "nbformat_minor": 0,
  "metadata": {
    "celltoolbar": "Raw Cell Format",
    "kernelspec": {
      "display_name": "Python 3",
      "language": "python",
      "name": "python3"
    },
    "language_info": {
      "codemirror_mode": {
        "name": "ipython",
        "version": 3
      },
      "file_extension": ".py",
      "mimetype": "text/x-python",
      "name": "python",
      "nbconvert_exporter": "python",
      "pygments_lexer": "ipython3",
      "version": "3.6.9"
    },
    "colab": {
      "name": "Data Exploration with Spark",
      "provenance": [],
      "collapsed_sections": [
        "_emv1pjNIjYH",
        "-nm1dwDsIjZo",
        "-O4ophJQIjZs",
        "cbk6A79CIjZ2"
      ],
      "toc_visible": true
    }
  },
  "cells": [
    {
      "cell_type": "markdown",
      "metadata": {
        "id": "fmf98NAwIjW1",
        "colab_type": "text"
      },
      "source": [
        "# **Data Exploration**\n",
        "\n",
        "In this notebook we'll look at one of the first elements involved in any data engineering project - getting to know what the inputs might look like.\n",
        "\n",
        "This notebook was adapted from a Netflix data engineering workshop which you can find here: https://github.com/NFLX-WIBD/WIBD-Workshops-2018."
      ]
    },
    {
      "cell_type": "markdown",
      "metadata": {
        "colab_type": "text",
        "id": "sq8U3BtmhtRx"
      },
      "source": [
        "\n",
        "### Running Pyspark in Colab\n",
        "\n",
        "To run spark in Colab, we need to first install all the dependencies in Colab environment i.e. Apache Spark 2.3.2 with hadoop 2.7, Java 8 and Findspark to locate the spark in the system. The tools installation can be carried out inside the Jupyter Notebook of the Colab. Follow the steps to install the dependencies:"
      ]
    },
    {
      "cell_type": "code",
      "metadata": {
        "colab_type": "code",
        "id": "lh5NCoc8fsSO",
        "colab": {}
      },
      "source": [
        "%%capture\n",
        "!apt-get install openjdk-8-jdk-headless -qq > /dev/null\n",
        "!wget -q https://www-us.apache.org/dist/spark/spark-3.0.0-preview2/spark-3.0.0-preview2-bin-hadoop3.2.tgz\n",
        "!tar -xvf spark-3.0.0-preview2-bin-hadoop3.2.tgz  \n",
        "!pip install -q findspark"
      ],
      "execution_count": 0,
      "outputs": []
    },
    {
      "cell_type": "markdown",
      "metadata": {
        "colab_type": "text",
        "id": "ILheUROOhprv"
      },
      "source": [
        "Now that you installed Spark and Java in Colab, it is time to set the environment path which enables you to run Pyspark in your Colab environment. Set the location of Java and Spark by running the following code:"
      ]
    },
    {
      "cell_type": "code",
      "metadata": {
        "colab_type": "code",
        "id": "v1b8k_OVf2QF",
        "colab": {}
      },
      "source": [
        "import os\n",
        "os.environ[\"JAVA_HOME\"] = \"/usr/lib/jvm/java-8-openjdk-amd64\"\n",
        "os.environ[\"SPARK_HOME\"] = \"/content/spark-3.0.0-preview2-bin-hadoop3.2\""
      ],
      "execution_count": 0,
      "outputs": []
    },
    {
      "cell_type": "markdown",
      "metadata": {
        "colab_type": "text",
        "id": "KwrqMk3HiMiE"
      },
      "source": [
        "Run a local spark session to test your installation:"
      ]
    },
    {
      "cell_type": "code",
      "metadata": {
        "colab_type": "code",
        "id": "9_Uz1NL4gHFx",
        "colab": {}
      },
      "source": [
        "import findspark\n",
        "findspark.init()\n",
        "from pyspark.sql import SparkSession\n",
        "spark = SparkSession.builder.master(\"local[*]\").getOrCreate()"
      ],
      "execution_count": 0,
      "outputs": []
    },
    {
      "cell_type": "markdown",
      "metadata": {
        "colab_type": "text",
        "id": "JEb4HTRwiaJx"
      },
      "source": [
        "Congrats! Your Colab is ready to run Pyspark. Let's explore some data from the "
      ]
    },
    {
      "cell_type": "code",
      "metadata": {
        "id": "mWfmUJNuJMqy",
        "colab_type": "code",
        "outputId": "9f5329ce-2d24-46ce-f5cd-2128ecb5b3ad",
        "colab": {
          "base_uri": "https://localhost:8080/",
          "height": 221
        }
      },
      "source": [
        "!unzip data.zip"
      ],
      "execution_count": 0,
      "outputs": [
        {
          "output_type": "stream",
          "text": [
            "Archive:  data.zip\n",
            "   creating: data/\n",
            "  inflating: data/.DS_Store          \n",
            "   creating: __MACOSX/\n",
            "   creating: __MACOSX/data/\n",
            "  inflating: __MACOSX/data/._.DS_Store  \n",
            "  inflating: data/WDICountry.csv     \n",
            "  inflating: __MACOSX/data/._WDICountry.csv  \n",
            "  inflating: data/WDIData.csv        \n",
            "  inflating: __MACOSX/data/._WDIData.csv  \n",
            "  inflating: data/WDISeries.csv      \n",
            "  inflating: __MACOSX/data/._WDISeries.csv  \n"
          ],
          "name": "stdout"
        }
      ]
    },
    {
      "cell_type": "markdown",
      "metadata": {
        "id": "9JlC1mOCIjXI",
        "colab_type": "text"
      },
      "source": [
        "### Step 1 - What inputs do you have?"
      ]
    },
    {
      "cell_type": "code",
      "metadata": {
        "id": "XAy-gPstIjXJ",
        "colab_type": "code",
        "outputId": "746846ff-9a56-4bb2-d12e-8c0f3972f253",
        "colab": {
          "base_uri": "https://localhost:8080/",
          "height": 34
        }
      },
      "source": [
        "%%bash\n",
        "ls ../data"
      ],
      "execution_count": 0,
      "outputs": [
        {
          "output_type": "stream",
          "text": [
            "ls: cannot access '../data': No such file or directory\n"
          ],
          "name": "stderr"
        }
      ]
    },
    {
      "cell_type": "markdown",
      "metadata": {
        "id": "75d0FlRvIjXO",
        "colab_type": "text"
      },
      "source": [
        "### Step 2 - Get your tools setup"
      ]
    },
    {
      "cell_type": "markdown",
      "metadata": {
        "id": "t2kgz4J5IjXP",
        "colab_type": "text"
      },
      "source": [
        "As part of this we will be using [PySpark](http://spark.apache.org/docs/2.1.1/api/python/index.html) to inspect the data on hand and also gather some basic details."
      ]
    },
    {
      "cell_type": "code",
      "metadata": {
        "id": "IxFG-5WsIjXQ",
        "colab_type": "code",
        "colab": {}
      },
      "source": [
        "import pandas as pd\n",
        "\n",
        "from pyspark.sql.functions import *\n",
        "from pyspark.sql.types import *"
      ],
      "execution_count": 0,
      "outputs": []
    },
    {
      "cell_type": "code",
      "metadata": {
        "id": "8VOOvVj-IjXT",
        "colab_type": "code",
        "colab": {}
      },
      "source": [
        "#Helper for pretty formatting for Spark DataFrames\n",
        "def showDF(df, limitRows =  20, truncate = True):\n",
        "    if(truncate):\n",
        "        pd.set_option('display.max_colwidth', 50)\n",
        "    else:\n",
        "        pd.set_option('display.max_colwidth', -1)\n",
        "    pd.set_option('display.max_rows', limitRows)\n",
        "    display(df.limit(limitRows).toPandas())\n",
        "    pd.reset_option('display.max_rows')"
      ],
      "execution_count": 0,
      "outputs": []
    },
    {
      "cell_type": "code",
      "metadata": {
        "id": "9a0jtPvSIjXZ",
        "colab_type": "code",
        "colab": {}
      },
      "source": [
        "#Creating a spark session\n",
        "spark = SparkSession.builder.appName(\"Data Exploration\").getOrCreate()"
      ],
      "execution_count": 0,
      "outputs": []
    },
    {
      "cell_type": "markdown",
      "metadata": {
        "id": "vNfOeYOdIjXc",
        "colab_type": "text"
      },
      "source": [
        "### Step 3 - Look inside your data"
      ]
    },
    {
      "cell_type": "markdown",
      "metadata": {
        "id": "qxoPWsLCIjXd",
        "colab_type": "text"
      },
      "source": [
        "We need to look at how our data is composed:\n",
        "1. Format\n",
        "2. Structure\n",
        "3. Size\n",
        "4. Dimensions"
      ]
    },
    {
      "cell_type": "markdown",
      "metadata": {
        "id": "pMJoWAXiIjXe",
        "colab_type": "text"
      },
      "source": [
        "In this example our input is a CSV file with a header.  Let's try to see what the data looks like"
      ]
    },
    {
      "cell_type": "markdown",
      "metadata": {
        "id": "PJPApkSOIjXf",
        "colab_type": "text"
      },
      "source": [
        "#### Read The Data"
      ]
    },
    {
      "cell_type": "code",
      "metadata": {
        "id": "NVx6oSWlIjXg",
        "colab_type": "code",
        "colab": {}
      },
      "source": [
        "#Read the file into a Spark Data Frame\n",
        "country = spark.read.format(\"csv\") \\\n",
        "    .option(\"header\", \"true\") \\\n",
        "    .option(\"inferSchema\", \"true\") \\\n",
        "    .load(\"data/WDICountry.csv\")"
      ],
      "execution_count": 0,
      "outputs": []
    },
    {
      "cell_type": "markdown",
      "metadata": {
        "id": "zQYDkHsmIjXj",
        "colab_type": "text"
      },
      "source": [
        "#### Inspect the schema of the file you just read"
      ]
    },
    {
      "cell_type": "code",
      "metadata": {
        "id": "FNilUmSeIjXk",
        "colab_type": "code",
        "outputId": "80c3fd0d-a0e1-47de-ac81-bb32ff4b9e81",
        "colab": {
          "base_uri": "https://localhost:8080/",
          "height": 578
        }
      },
      "source": [
        "country.printSchema()"
      ],
      "execution_count": 0,
      "outputs": [
        {
          "output_type": "stream",
          "text": [
            "root\n",
            " |-- Country Code: string (nullable = true)\n",
            " |-- Short Name: string (nullable = true)\n",
            " |-- Table Name: string (nullable = true)\n",
            " |-- Long Name: string (nullable = true)\n",
            " |-- 2-alpha code: string (nullable = true)\n",
            " |-- Currency Unit: string (nullable = true)\n",
            " |-- Special Notes: string (nullable = true)\n",
            " |-- Region: string (nullable = true)\n",
            " |-- Income Group: string (nullable = true)\n",
            " |-- WB-2 code: string (nullable = true)\n",
            " |-- National accounts base year: string (nullable = true)\n",
            " |-- National accounts reference year: integer (nullable = true)\n",
            " |-- SNA price valuation: string (nullable = true)\n",
            " |-- Lending category: string (nullable = true)\n",
            " |-- Other groups: string (nullable = true)\n",
            " |-- System of National Accounts: string (nullable = true)\n",
            " |-- Alternative conversion factor: string (nullable = true)\n",
            " |-- PPP survey year: string (nullable = true)\n",
            " |-- Balance of Payments Manual in use: string (nullable = true)\n",
            " |-- External debt Reporting status: string (nullable = true)\n",
            " |-- System of trade: string (nullable = true)\n",
            " |-- Government Accounting concept: string (nullable = true)\n",
            " |-- IMF data dissemination standard: string (nullable = true)\n",
            " |-- Latest population census: string (nullable = true)\n",
            " |-- Latest household survey: string (nullable = true)\n",
            " |-- Source of most recent Income and expenditure data: string (nullable = true)\n",
            " |-- Vital registration complete: string (nullable = true)\n",
            " |-- Latest agricultural census: string (nullable = true)\n",
            " |-- Latest industrial data: integer (nullable = true)\n",
            " |-- Latest trade data: integer (nullable = true)\n",
            " |-- Latest water withdrawal data: integer (nullable = true)\n",
            "\n"
          ],
          "name": "stdout"
        }
      ]
    },
    {
      "cell_type": "markdown",
      "metadata": {
        "id": "q_GJ6XK4IjXn",
        "colab_type": "text"
      },
      "source": [
        "#### Take a look at some sample data\n",
        "\n",
        "You can run <dataframe>.show() to look at the sample data.  However the output is not well formatted so we will use our helper function to look at the data."
      ]
    },
    {
      "cell_type": "code",
      "metadata": {
        "id": "e3iNa1qBIjXo",
        "colab_type": "code",
        "outputId": "a5798e35-3e3d-4b7f-bcb3-5121917e3a6c",
        "colab": {
          "base_uri": "https://localhost:8080/",
          "height": 1000
        }
      },
      "source": [
        "showDF(country, truncate = False)"
      ],
      "execution_count": 0,
      "outputs": [
        {
          "output_type": "display_data",
          "data": {
            "text/html": [
              "<div>\n",
              "<style scoped>\n",
              "    .dataframe tbody tr th:only-of-type {\n",
              "        vertical-align: middle;\n",
              "    }\n",
              "\n",
              "    .dataframe tbody tr th {\n",
              "        vertical-align: top;\n",
              "    }\n",
              "\n",
              "    .dataframe thead th {\n",
              "        text-align: right;\n",
              "    }\n",
              "</style>\n",
              "<table border=\"1\" class=\"dataframe\">\n",
              "  <thead>\n",
              "    <tr style=\"text-align: right;\">\n",
              "      <th></th>\n",
              "      <th>Country Code</th>\n",
              "      <th>Short Name</th>\n",
              "      <th>Table Name</th>\n",
              "      <th>Long Name</th>\n",
              "      <th>2-alpha code</th>\n",
              "      <th>Currency Unit</th>\n",
              "      <th>Special Notes</th>\n",
              "      <th>Region</th>\n",
              "      <th>Income Group</th>\n",
              "      <th>WB-2 code</th>\n",
              "      <th>National accounts base year</th>\n",
              "      <th>National accounts reference year</th>\n",
              "      <th>SNA price valuation</th>\n",
              "      <th>Lending category</th>\n",
              "      <th>Other groups</th>\n",
              "      <th>System of National Accounts</th>\n",
              "      <th>Alternative conversion factor</th>\n",
              "      <th>PPP survey year</th>\n",
              "      <th>Balance of Payments Manual in use</th>\n",
              "      <th>External debt Reporting status</th>\n",
              "      <th>System of trade</th>\n",
              "      <th>Government Accounting concept</th>\n",
              "      <th>IMF data dissemination standard</th>\n",
              "      <th>Latest population census</th>\n",
              "      <th>Latest household survey</th>\n",
              "      <th>Source of most recent Income and expenditure data</th>\n",
              "      <th>Vital registration complete</th>\n",
              "      <th>Latest agricultural census</th>\n",
              "      <th>Latest industrial data</th>\n",
              "      <th>Latest trade data</th>\n",
              "      <th>Latest water withdrawal data</th>\n",
              "    </tr>\n",
              "  </thead>\n",
              "  <tbody>\n",
              "    <tr>\n",
              "      <th>0</th>\n",
              "      <td>ABW</td>\n",
              "      <td>Aruba</td>\n",
              "      <td>Aruba</td>\n",
              "      <td>Aruba</td>\n",
              "      <td>AW</td>\n",
              "      <td>Aruban florin</td>\n",
              "      <td>SNA data for 2000-2011 are updated from official government statistics; 1994-1999 from UN databases. Base year has changed from 1995 to 2000.</td>\n",
              "      <td>Latin America &amp; Caribbean</td>\n",
              "      <td>High income</td>\n",
              "      <td>AW</td>\n",
              "      <td>2000</td>\n",
              "      <td>NaN</td>\n",
              "      <td>Value added at basic prices (VAB)</td>\n",
              "      <td>None</td>\n",
              "      <td>None</td>\n",
              "      <td>Country uses the 1993 System of National Accounts methodology</td>\n",
              "      <td>None</td>\n",
              "      <td>2011</td>\n",
              "      <td>BPM5 (Converted into BPM6 by IMF)</td>\n",
              "      <td>None</td>\n",
              "      <td>General trade system</td>\n",
              "      <td>None</td>\n",
              "      <td>Enhanced General Data Dissemination System (e-GDDS)</td>\n",
              "      <td>2010</td>\n",
              "      <td>None</td>\n",
              "      <td>None</td>\n",
              "      <td>Yes</td>\n",
              "      <td>None</td>\n",
              "      <td>NaN</td>\n",
              "      <td>2016.0</td>\n",
              "      <td>NaN</td>\n",
              "    </tr>\n",
              "    <tr>\n",
              "      <th>1</th>\n",
              "      <td>AFG</td>\n",
              "      <td>Afghanistan</td>\n",
              "      <td>Afghanistan</td>\n",
              "      <td>Islamic State of Afghanistan</td>\n",
              "      <td>AF</td>\n",
              "      <td>Afghan afghani</td>\n",
              "      <td>Fiscal year end: March 20; reporting period for national accounts data is calendar year, estimated to insure consistency between national accounts and fiscal data. National accounts data are sourced from the IMF and differ from the Central Statistics Organization numbers due to exclusion of the opium economy.</td>\n",
              "      <td>South Asia</td>\n",
              "      <td>Low income</td>\n",
              "      <td>AF</td>\n",
              "      <td>2002/03</td>\n",
              "      <td>NaN</td>\n",
              "      <td>Value added at basic prices (VAB)</td>\n",
              "      <td>IDA</td>\n",
              "      <td>HIPC</td>\n",
              "      <td>Country uses the 1993 System of National Accounts methodology</td>\n",
              "      <td>None</td>\n",
              "      <td>None</td>\n",
              "      <td>BPM6</td>\n",
              "      <td>Actual</td>\n",
              "      <td>General trade system</td>\n",
              "      <td>Consolidated central government</td>\n",
              "      <td>Enhanced General Data Dissemination System (e-GDDS)</td>\n",
              "      <td>1979</td>\n",
              "      <td>Demographic and Health Survey, 2015</td>\n",
              "      <td>Integrated household survey (IHS), 2011</td>\n",
              "      <td>None</td>\n",
              "      <td>None</td>\n",
              "      <td>NaN</td>\n",
              "      <td>2016.0</td>\n",
              "      <td>2000.0</td>\n",
              "    </tr>\n",
              "    <tr>\n",
              "      <th>2</th>\n",
              "      <td>AGO</td>\n",
              "      <td>Angola</td>\n",
              "      <td>Angola</td>\n",
              "      <td>People's Republic of Angola</td>\n",
              "      <td>AO</td>\n",
              "      <td>Angolan kwanza</td>\n",
              "      <td>None</td>\n",
              "      <td>Sub-Saharan Africa</td>\n",
              "      <td>Lower middle income</td>\n",
              "      <td>AO</td>\n",
              "      <td>2002</td>\n",
              "      <td>NaN</td>\n",
              "      <td>Value added at producer prices (VAP)</td>\n",
              "      <td>IBRD</td>\n",
              "      <td>None</td>\n",
              "      <td>Country uses the 1993 System of National Accounts methodology</td>\n",
              "      <td>1991–96</td>\n",
              "      <td>2011</td>\n",
              "      <td>BPM6</td>\n",
              "      <td>Actual</td>\n",
              "      <td>Special trade system</td>\n",
              "      <td>Budgetary central government</td>\n",
              "      <td>Enhanced General Data Dissemination System (e-GDDS)</td>\n",
              "      <td>2014</td>\n",
              "      <td>Demographic and Health Survey, 2015/16</td>\n",
              "      <td>Integrated household survey (IHS), 2008/09</td>\n",
              "      <td>None</td>\n",
              "      <td>None</td>\n",
              "      <td>NaN</td>\n",
              "      <td>2016.0</td>\n",
              "      <td>2005.0</td>\n",
              "    </tr>\n",
              "    <tr>\n",
              "      <th>3</th>\n",
              "      <td>ALB</td>\n",
              "      <td>Albania</td>\n",
              "      <td>Albania</td>\n",
              "      <td>Republic of Albania</td>\n",
              "      <td>AL</td>\n",
              "      <td>Albanian lek</td>\n",
              "      <td>None</td>\n",
              "      <td>Europe &amp; Central Asia</td>\n",
              "      <td>Upper middle income</td>\n",
              "      <td>AL</td>\n",
              "      <td>Original chained constant price data are rescaled.</td>\n",
              "      <td>1996.0</td>\n",
              "      <td>Value added at basic prices (VAB)</td>\n",
              "      <td>IBRD</td>\n",
              "      <td>None</td>\n",
              "      <td>Country uses the 2008 System of National Accounts methodology</td>\n",
              "      <td>None</td>\n",
              "      <td>Rolling</td>\n",
              "      <td>BPM6</td>\n",
              "      <td>Actual</td>\n",
              "      <td>Special trade system</td>\n",
              "      <td>Consolidated central government</td>\n",
              "      <td>Enhanced General Data Dissemination System (e-GDDS)</td>\n",
              "      <td>2011</td>\n",
              "      <td>Demographic and Health Survey, 2008/09</td>\n",
              "      <td>Living Standards Measurement Study Survey (LSMS), 2012</td>\n",
              "      <td>Yes</td>\n",
              "      <td>2012</td>\n",
              "      <td>2013.0</td>\n",
              "      <td>2016.0</td>\n",
              "      <td>2006.0</td>\n",
              "    </tr>\n",
              "    <tr>\n",
              "      <th>4</th>\n",
              "      <td>AND</td>\n",
              "      <td>Andorra</td>\n",
              "      <td>Andorra</td>\n",
              "      <td>Principality of Andorra</td>\n",
              "      <td>AD</td>\n",
              "      <td>Euro</td>\n",
              "      <td>WB-3 code changed from ADO to AND to align with ISO code.</td>\n",
              "      <td>Europe &amp; Central Asia</td>\n",
              "      <td>High income</td>\n",
              "      <td>AD</td>\n",
              "      <td>2000</td>\n",
              "      <td>NaN</td>\n",
              "      <td>Value added at basic prices (VAB)</td>\n",
              "      <td>None</td>\n",
              "      <td>None</td>\n",
              "      <td>Country uses the 1993 System of National Accounts methodology</td>\n",
              "      <td>None</td>\n",
              "      <td>None</td>\n",
              "      <td>None</td>\n",
              "      <td>None</td>\n",
              "      <td>General trade system</td>\n",
              "      <td>None</td>\n",
              "      <td>None</td>\n",
              "      <td>2011. Population data compiled from administrative registers.</td>\n",
              "      <td>None</td>\n",
              "      <td>None</td>\n",
              "      <td>Yes</td>\n",
              "      <td>None</td>\n",
              "      <td>NaN</td>\n",
              "      <td>NaN</td>\n",
              "      <td>NaN</td>\n",
              "    </tr>\n",
              "    <tr>\n",
              "      <th>5</th>\n",
              "      <td>ARB</td>\n",
              "      <td>Arab World</td>\n",
              "      <td>Arab World</td>\n",
              "      <td>Arab World</td>\n",
              "      <td>1A</td>\n",
              "      <td>None</td>\n",
              "      <td>Arab World aggregate. Arab World is composed of members of the League of Arab States.</td>\n",
              "      <td>None</td>\n",
              "      <td>None</td>\n",
              "      <td>1A</td>\n",
              "      <td>None</td>\n",
              "      <td>NaN</td>\n",
              "      <td>None</td>\n",
              "      <td>None</td>\n",
              "      <td>None</td>\n",
              "      <td>None</td>\n",
              "      <td>None</td>\n",
              "      <td>None</td>\n",
              "      <td>None</td>\n",
              "      <td>None</td>\n",
              "      <td>None</td>\n",
              "      <td>None</td>\n",
              "      <td>None</td>\n",
              "      <td>None</td>\n",
              "      <td>None</td>\n",
              "      <td>None</td>\n",
              "      <td>None</td>\n",
              "      <td>None</td>\n",
              "      <td>NaN</td>\n",
              "      <td>2016.0</td>\n",
              "      <td>NaN</td>\n",
              "    </tr>\n",
              "    <tr>\n",
              "      <th>6</th>\n",
              "      <td>ARE</td>\n",
              "      <td>United Arab Emirates</td>\n",
              "      <td>United Arab Emirates</td>\n",
              "      <td>United Arab Emirates</td>\n",
              "      <td>AE</td>\n",
              "      <td>U.A.E. dirham</td>\n",
              "      <td>None</td>\n",
              "      <td>Middle East &amp; North Africa</td>\n",
              "      <td>High income</td>\n",
              "      <td>AE</td>\n",
              "      <td>2010</td>\n",
              "      <td>NaN</td>\n",
              "      <td>Value added at basic prices (VAB)</td>\n",
              "      <td>None</td>\n",
              "      <td>None</td>\n",
              "      <td>Country uses the 1993 System of National Accounts methodology</td>\n",
              "      <td>None</td>\n",
              "      <td>2011</td>\n",
              "      <td>None</td>\n",
              "      <td>None</td>\n",
              "      <td>Special trade system</td>\n",
              "      <td>Consolidated central government</td>\n",
              "      <td>Enhanced General Data Dissemination System (e-GDDS)</td>\n",
              "      <td>2010</td>\n",
              "      <td>World Health Survey, 2003</td>\n",
              "      <td>None</td>\n",
              "      <td>None</td>\n",
              "      <td>2012</td>\n",
              "      <td>1985.0</td>\n",
              "      <td>2016.0</td>\n",
              "      <td>2005.0</td>\n",
              "    </tr>\n",
              "    <tr>\n",
              "      <th>7</th>\n",
              "      <td>ARG</td>\n",
              "      <td>Argentina</td>\n",
              "      <td>Argentina</td>\n",
              "      <td>Argentine Republic</td>\n",
              "      <td>AR</td>\n",
              "      <td>Argentine peso</td>\n",
              "      <td>National Institute of Statistics and Census revised national accounts from 2004-2015. Argentina, which was temporarily unclassified in July 2016 pending release of revised national accounts statistics, is classified as upper middle income for FY17 as of September 29, 2016.</td>\n",
              "      <td>None</td>\n",
              "      <td>None</td>\n",
              "      <td>None</td>\n",
              "      <td>None</td>\n",
              "      <td>NaN</td>\n",
              "      <td>None</td>\n",
              "      <td>None</td>\n",
              "      <td>None</td>\n",
              "      <td>None</td>\n",
              "      <td>None</td>\n",
              "      <td>None</td>\n",
              "      <td>None</td>\n",
              "      <td>None</td>\n",
              "      <td>None</td>\n",
              "      <td>None</td>\n",
              "      <td>None</td>\n",
              "      <td>None</td>\n",
              "      <td>None</td>\n",
              "      <td>None</td>\n",
              "      <td>None</td>\n",
              "      <td>None</td>\n",
              "      <td>NaN</td>\n",
              "      <td>NaN</td>\n",
              "      <td>NaN</td>\n",
              "    </tr>\n",
              "    <tr>\n",
              "      <th>8</th>\n",
              "      <td>ARM</td>\n",
              "      <td>Armenia</td>\n",
              "      <td>Armenia</td>\n",
              "      <td>Republic of Armenia</td>\n",
              "      <td>AM</td>\n",
              "      <td>Armenian dram</td>\n",
              "      <td>None</td>\n",
              "      <td>Europe &amp; Central Asia</td>\n",
              "      <td>Lower middle income</td>\n",
              "      <td>AM</td>\n",
              "      <td>Original chained constant price data are rescaled.</td>\n",
              "      <td>1996.0</td>\n",
              "      <td>Value added at basic prices (VAB)</td>\n",
              "      <td>IBRD</td>\n",
              "      <td>None</td>\n",
              "      <td>Country uses the 2008 System of National Accounts methodology</td>\n",
              "      <td>1990–95</td>\n",
              "      <td>2011</td>\n",
              "      <td>BPM6</td>\n",
              "      <td>Actual</td>\n",
              "      <td>General trade system</td>\n",
              "      <td>Consolidated central government</td>\n",
              "      <td>Special Data Dissemination Standard (SDDS)</td>\n",
              "      <td>2011</td>\n",
              "      <td>Demographic and Health Survey, 2015/16</td>\n",
              "      <td>Integrated household survey (IHS), 2015</td>\n",
              "      <td>Yes</td>\n",
              "      <td>2014</td>\n",
              "      <td>NaN</td>\n",
              "      <td>2016.0</td>\n",
              "      <td>2012.0</td>\n",
              "    </tr>\n",
              "    <tr>\n",
              "      <th>9</th>\n",
              "      <td>ASM</td>\n",
              "      <td>American Samoa</td>\n",
              "      <td>American Samoa</td>\n",
              "      <td>American Samoa</td>\n",
              "      <td>AS</td>\n",
              "      <td>U.S. dollar</td>\n",
              "      <td>New base Year 2009</td>\n",
              "      <td>East Asia &amp; Pacific</td>\n",
              "      <td>Upper middle income</td>\n",
              "      <td>AS</td>\n",
              "      <td>2009</td>\n",
              "      <td>NaN</td>\n",
              "      <td>None</td>\n",
              "      <td>None</td>\n",
              "      <td>None</td>\n",
              "      <td>Country uses the 2008 System of National Accounts methodology</td>\n",
              "      <td>None</td>\n",
              "      <td>2011 (household consumption only).</td>\n",
              "      <td>None</td>\n",
              "      <td>None</td>\n",
              "      <td>Special trade system</td>\n",
              "      <td>None</td>\n",
              "      <td>None</td>\n",
              "      <td>2010</td>\n",
              "      <td>None</td>\n",
              "      <td>None</td>\n",
              "      <td>Yes</td>\n",
              "      <td>2008</td>\n",
              "      <td>NaN</td>\n",
              "      <td>2016.0</td>\n",
              "      <td>NaN</td>\n",
              "    </tr>\n",
              "    <tr>\n",
              "      <th>10</th>\n",
              "      <td>ATG</td>\n",
              "      <td>Antigua and Barbuda</td>\n",
              "      <td>Antigua and Barbuda</td>\n",
              "      <td>Antigua and Barbuda</td>\n",
              "      <td>AG</td>\n",
              "      <td>East Caribbean dollar</td>\n",
              "      <td>None</td>\n",
              "      <td>Latin America &amp; Caribbean</td>\n",
              "      <td>High income</td>\n",
              "      <td>AG</td>\n",
              "      <td>2006</td>\n",
              "      <td>NaN</td>\n",
              "      <td>Value added at basic prices (VAB)</td>\n",
              "      <td>IBRD</td>\n",
              "      <td>None</td>\n",
              "      <td>Country uses the 1993 System of National Accounts methodology</td>\n",
              "      <td>None</td>\n",
              "      <td>2011</td>\n",
              "      <td>BPM6</td>\n",
              "      <td>None</td>\n",
              "      <td>General trade system</td>\n",
              "      <td>Budgetary central government</td>\n",
              "      <td>Enhanced General Data Dissemination System (e-GDDS)</td>\n",
              "      <td>2011</td>\n",
              "      <td>None</td>\n",
              "      <td>None</td>\n",
              "      <td>Yes</td>\n",
              "      <td>2007</td>\n",
              "      <td>NaN</td>\n",
              "      <td>2016.0</td>\n",
              "      <td>2012.0</td>\n",
              "    </tr>\n",
              "    <tr>\n",
              "      <th>11</th>\n",
              "      <td>AUS</td>\n",
              "      <td>Australia</td>\n",
              "      <td>Australia</td>\n",
              "      <td>Commonwealth of Australia</td>\n",
              "      <td>AU</td>\n",
              "      <td>Australian dollar</td>\n",
              "      <td>Fiscal year end: June 30; reporting period for national accounts data: FY. Value added current series updated by the Australian Bureau of Statistics;</td>\n",
              "      <td>East Asia &amp; Pacific</td>\n",
              "      <td>High income</td>\n",
              "      <td>AU</td>\n",
              "      <td>Original chained constant price data are rescaled.</td>\n",
              "      <td>2015.0</td>\n",
              "      <td>Value added at basic prices (VAB)</td>\n",
              "      <td>None</td>\n",
              "      <td>None</td>\n",
              "      <td>Country uses the 2008 System of National Accounts methodology</td>\n",
              "      <td>None</td>\n",
              "      <td>2011</td>\n",
              "      <td>BPM6</td>\n",
              "      <td>None</td>\n",
              "      <td>General trade system</td>\n",
              "      <td>Consolidated central government</td>\n",
              "      <td>Special Data Dissemination Standard (SDDS)</td>\n",
              "      <td>2016</td>\n",
              "      <td>None</td>\n",
              "      <td>Expenditure survey/budget survey (ES/BS), 2010</td>\n",
              "      <td>Yes</td>\n",
              "      <td>2011</td>\n",
              "      <td>2013.0</td>\n",
              "      <td>2016.0</td>\n",
              "      <td>2013.0</td>\n",
              "    </tr>\n",
              "    <tr>\n",
              "      <th>12</th>\n",
              "      <td>AUT</td>\n",
              "      <td>Austria</td>\n",
              "      <td>Austria</td>\n",
              "      <td>Republic of Austria</td>\n",
              "      <td>AT</td>\n",
              "      <td>Euro</td>\n",
              "      <td>A simple multiplier is used to convert the national currencies of EMU members to euros. The following irrevocable euro conversion rate was adopted by the EU Council on January 1, 1999: 1 euro = 13.7603 Austrian schilling. Please note that historical data before 1999 are not actual euros and are not comparable or suitable for aggregation across countries.</td>\n",
              "      <td>Europe &amp; Central Asia</td>\n",
              "      <td>High income</td>\n",
              "      <td>AT</td>\n",
              "      <td>Original chained constant price data are rescaled.</td>\n",
              "      <td>2010.0</td>\n",
              "      <td>Value added at basic prices (VAB)</td>\n",
              "      <td>None</td>\n",
              "      <td>Euro area</td>\n",
              "      <td>Country uses the 2008 System of National Accounts methodology</td>\n",
              "      <td>None</td>\n",
              "      <td>Rolling</td>\n",
              "      <td>BPM6</td>\n",
              "      <td>None</td>\n",
              "      <td>Special trade system</td>\n",
              "      <td>Consolidated central government</td>\n",
              "      <td>Special Data Dissemination Standard Plus (SDDS+)</td>\n",
              "      <td>2011. Population data compiled from administrative registers.</td>\n",
              "      <td>None</td>\n",
              "      <td>Income survey (IS), 2014</td>\n",
              "      <td>Yes</td>\n",
              "      <td>2010</td>\n",
              "      <td>2014.0</td>\n",
              "      <td>2016.0</td>\n",
              "      <td>2010.0</td>\n",
              "    </tr>\n",
              "    <tr>\n",
              "      <th>13</th>\n",
              "      <td>AZE</td>\n",
              "      <td>Azerbaijan</td>\n",
              "      <td>Azerbaijan</td>\n",
              "      <td>Republic of Azerbaijan</td>\n",
              "      <td>AZ</td>\n",
              "      <td>New Azeri manat</td>\n",
              "      <td>None</td>\n",
              "      <td>Europe &amp; Central Asia</td>\n",
              "      <td>Upper middle income</td>\n",
              "      <td>AZ</td>\n",
              "      <td>Original chained constant price data are rescaled.</td>\n",
              "      <td>2000.0</td>\n",
              "      <td>Value added at basic prices (VAB)</td>\n",
              "      <td>IBRD</td>\n",
              "      <td>None</td>\n",
              "      <td>Country uses the 1993 System of National Accounts methodology</td>\n",
              "      <td>1992–95</td>\n",
              "      <td>2011</td>\n",
              "      <td>BPM6</td>\n",
              "      <td>Actual</td>\n",
              "      <td>General trade system</td>\n",
              "      <td>Consolidated central government</td>\n",
              "      <td>Enhanced General Data Dissemination System (e-GDDS)</td>\n",
              "      <td>2009</td>\n",
              "      <td>Demographic and Health Survey, 2006</td>\n",
              "      <td>Living Standards Measurement Study Survey (LSMS), 2012</td>\n",
              "      <td>Yes</td>\n",
              "      <td>2015</td>\n",
              "      <td>2013.0</td>\n",
              "      <td>2016.0</td>\n",
              "      <td>2012.0</td>\n",
              "    </tr>\n",
              "    <tr>\n",
              "      <th>14</th>\n",
              "      <td>BDI</td>\n",
              "      <td>Burundi</td>\n",
              "      <td>Burundi</td>\n",
              "      <td>Republic of Burundi</td>\n",
              "      <td>BI</td>\n",
              "      <td>Burundi franc</td>\n",
              "      <td>None</td>\n",
              "      <td>Sub-Saharan Africa</td>\n",
              "      <td>Low income</td>\n",
              "      <td>BI</td>\n",
              "      <td>2005</td>\n",
              "      <td>NaN</td>\n",
              "      <td>Value added at basic prices (VAB)</td>\n",
              "      <td>IDA</td>\n",
              "      <td>HIPC</td>\n",
              "      <td>Country uses the 1993 System of National Accounts methodology</td>\n",
              "      <td>None</td>\n",
              "      <td>2011</td>\n",
              "      <td>BPM6</td>\n",
              "      <td>Actual</td>\n",
              "      <td>General trade system</td>\n",
              "      <td>Budgetary central government</td>\n",
              "      <td>Enhanced General Data Dissemination System (e-GDDS)</td>\n",
              "      <td>2008</td>\n",
              "      <td>Demographic and Health Survey, 2016</td>\n",
              "      <td>Core Welfare Indicator Questionnaire Survey (CWIQ), 2014</td>\n",
              "      <td>None</td>\n",
              "      <td>None</td>\n",
              "      <td>2012.0</td>\n",
              "      <td>2016.0</td>\n",
              "      <td>2000.0</td>\n",
              "    </tr>\n",
              "    <tr>\n",
              "      <th>15</th>\n",
              "      <td>BEL</td>\n",
              "      <td>Belgium</td>\n",
              "      <td>Belgium</td>\n",
              "      <td>Kingdom of Belgium</td>\n",
              "      <td>BE</td>\n",
              "      <td>Euro</td>\n",
              "      <td>A simple multiplier is used to convert the national currencies of EMU members to euros. The following irrevocable euro conversion rate was adopted by the EU Council on January 1, 1999: 1 euro = 40.3399 Belgian franc. Please note that historical data before 1999 are not actual euros and are not comparable or suitable for aggregation across countries.</td>\n",
              "      <td>Europe &amp; Central Asia</td>\n",
              "      <td>High income</td>\n",
              "      <td>BE</td>\n",
              "      <td>Original chained constant price data are rescaled.</td>\n",
              "      <td>2010.0</td>\n",
              "      <td>Value added at basic prices (VAB)</td>\n",
              "      <td>None</td>\n",
              "      <td>Euro area</td>\n",
              "      <td>Country uses the 2008 System of National Accounts methodology</td>\n",
              "      <td>None</td>\n",
              "      <td>Rolling</td>\n",
              "      <td>BPM6</td>\n",
              "      <td>None</td>\n",
              "      <td>Special trade system</td>\n",
              "      <td>Consolidated central government</td>\n",
              "      <td>Special Data Dissemination Standard (SDDS)</td>\n",
              "      <td>2011. Population data compiled from administrative registers in combination with other sources of data, such as a sample surveys.</td>\n",
              "      <td>None</td>\n",
              "      <td>Income survey (IS), 2014</td>\n",
              "      <td>Yes</td>\n",
              "      <td>2010</td>\n",
              "      <td>2014.0</td>\n",
              "      <td>2016.0</td>\n",
              "      <td>2009.0</td>\n",
              "    </tr>\n",
              "    <tr>\n",
              "      <th>16</th>\n",
              "      <td>BEN</td>\n",
              "      <td>Benin</td>\n",
              "      <td>Benin</td>\n",
              "      <td>Republic of Benin</td>\n",
              "      <td>BJ</td>\n",
              "      <td>West African CFA franc</td>\n",
              "      <td>None</td>\n",
              "      <td>Sub-Saharan Africa</td>\n",
              "      <td>Low income</td>\n",
              "      <td>BJ</td>\n",
              "      <td>2007</td>\n",
              "      <td>NaN</td>\n",
              "      <td>Value added at basic prices (VAB)</td>\n",
              "      <td>IDA</td>\n",
              "      <td>HIPC</td>\n",
              "      <td>Country uses the 1993 System of National Accounts methodology</td>\n",
              "      <td>1992</td>\n",
              "      <td>2011</td>\n",
              "      <td>BPM6</td>\n",
              "      <td>Actual</td>\n",
              "      <td>General trade system</td>\n",
              "      <td>Budgetary central government</td>\n",
              "      <td>Enhanced General Data Dissemination System (e-GDDS)</td>\n",
              "      <td>2013</td>\n",
              "      <td>Multiple Indicator Cluster Survey, 2014</td>\n",
              "      <td>Core Welfare Indicator Questionnaire Survey (CWIQ), 2015</td>\n",
              "      <td>None</td>\n",
              "      <td>None</td>\n",
              "      <td>1981.0</td>\n",
              "      <td>2016.0</td>\n",
              "      <td>2001.0</td>\n",
              "    </tr>\n",
              "    <tr>\n",
              "      <th>17</th>\n",
              "      <td>BFA</td>\n",
              "      <td>Burkina Faso</td>\n",
              "      <td>Burkina Faso</td>\n",
              "      <td>Burkina Faso</td>\n",
              "      <td>BF</td>\n",
              "      <td>West African CFA franc</td>\n",
              "      <td>None</td>\n",
              "      <td>Sub-Saharan Africa</td>\n",
              "      <td>Low income</td>\n",
              "      <td>BF</td>\n",
              "      <td>1999</td>\n",
              "      <td>NaN</td>\n",
              "      <td>Value added at basic prices (VAB)</td>\n",
              "      <td>IDA</td>\n",
              "      <td>HIPC</td>\n",
              "      <td>Country uses the 1993 System of National Accounts methodology</td>\n",
              "      <td>1992–93</td>\n",
              "      <td>2011</td>\n",
              "      <td>BPM6</td>\n",
              "      <td>Actual</td>\n",
              "      <td>General trade system</td>\n",
              "      <td>Budgetary central government</td>\n",
              "      <td>Enhanced General Data Dissemination System (e-GDDS)</td>\n",
              "      <td>2006</td>\n",
              "      <td>Living Standards Measurement Study, 2014; Malaria Indicator Survey, 2014</td>\n",
              "      <td>Core Welfare Indicator Questionnaire Survey (CWIQ), 2014</td>\n",
              "      <td>None</td>\n",
              "      <td>2006-10</td>\n",
              "      <td>1983.0</td>\n",
              "      <td>2016.0</td>\n",
              "      <td>2005.0</td>\n",
              "    </tr>\n",
              "    <tr>\n",
              "      <th>18</th>\n",
              "      <td>BGD</td>\n",
              "      <td>Bangladesh</td>\n",
              "      <td>Bangladesh</td>\n",
              "      <td>People's Republic of Bangladesh</td>\n",
              "      <td>BD</td>\n",
              "      <td>Bangladeshi taka</td>\n",
              "      <td>Fiscal year end: June 30; reporting period for national accounts data: FY.</td>\n",
              "      <td>South Asia</td>\n",
              "      <td>Lower middle income</td>\n",
              "      <td>BD</td>\n",
              "      <td>2005/06</td>\n",
              "      <td>NaN</td>\n",
              "      <td>Value added at basic prices (VAB)</td>\n",
              "      <td>IDA</td>\n",
              "      <td>None</td>\n",
              "      <td>Country uses the 1993 System of National Accounts methodology</td>\n",
              "      <td>None</td>\n",
              "      <td>2011</td>\n",
              "      <td>BPM6</td>\n",
              "      <td>Actual</td>\n",
              "      <td>General trade system</td>\n",
              "      <td>Budgetary central government</td>\n",
              "      <td>Enhanced General Data Dissemination System (e-GDDS)</td>\n",
              "      <td>2011</td>\n",
              "      <td>Demographic and Health Survey, 2014</td>\n",
              "      <td>Integrated household survey (IHS), 2016</td>\n",
              "      <td>None</td>\n",
              "      <td>2008</td>\n",
              "      <td>2011.0</td>\n",
              "      <td>2016.0</td>\n",
              "      <td>2008.0</td>\n",
              "    </tr>\n",
              "    <tr>\n",
              "      <th>19</th>\n",
              "      <td>BGR</td>\n",
              "      <td>Bulgaria</td>\n",
              "      <td>Bulgaria</td>\n",
              "      <td>Republic of Bulgaria</td>\n",
              "      <td>BG</td>\n",
              "      <td>Bulgarian lev</td>\n",
              "      <td>None</td>\n",
              "      <td>Europe &amp; Central Asia</td>\n",
              "      <td>Upper middle income</td>\n",
              "      <td>BG</td>\n",
              "      <td>Original chained constant price data are rescaled.</td>\n",
              "      <td>2010.0</td>\n",
              "      <td>Value added at basic prices (VAB)</td>\n",
              "      <td>IBRD</td>\n",
              "      <td>None</td>\n",
              "      <td>Country uses the 2008 System of National Accounts methodology</td>\n",
              "      <td>1978–89, 1991–92</td>\n",
              "      <td>Rolling</td>\n",
              "      <td>BPM6</td>\n",
              "      <td>Actual</td>\n",
              "      <td>Special trade system</td>\n",
              "      <td>Consolidated central government</td>\n",
              "      <td>Special Data Dissemination Standard Plus (SDDS+)</td>\n",
              "      <td>2011</td>\n",
              "      <td>Living Standards Measurement Study, 2007</td>\n",
              "      <td>Expenditure survey/budget survey (ES/BS), 2014</td>\n",
              "      <td>Yes</td>\n",
              "      <td>2010</td>\n",
              "      <td>2014.0</td>\n",
              "      <td>2016.0</td>\n",
              "      <td>2013.0</td>\n",
              "    </tr>\n",
              "  </tbody>\n",
              "</table>\n",
              "</div>"
            ],
            "text/plain": [
              "   Country Code  ... Latest water withdrawal data\n",
              "0   ABW          ... NaN                         \n",
              "1   AFG          ...  2000.0                     \n",
              "2   AGO          ...  2005.0                     \n",
              "3   ALB          ...  2006.0                     \n",
              "4   AND          ... NaN                         \n",
              "5   ARB          ... NaN                         \n",
              "6   ARE          ...  2005.0                     \n",
              "7   ARG          ... NaN                         \n",
              "8   ARM          ...  2012.0                     \n",
              "9   ASM          ... NaN                         \n",
              "10  ATG          ...  2012.0                     \n",
              "11  AUS          ...  2013.0                     \n",
              "12  AUT          ...  2010.0                     \n",
              "13  AZE          ...  2012.0                     \n",
              "14  BDI          ...  2000.0                     \n",
              "15  BEL          ...  2009.0                     \n",
              "16  BEN          ...  2001.0                     \n",
              "17  BFA          ...  2005.0                     \n",
              "18  BGD          ...  2008.0                     \n",
              "19  BGR          ...  2013.0                     \n",
              "\n",
              "[20 rows x 31 columns]"
            ]
          },
          "metadata": {
            "tags": []
          }
        }
      ]
    },
    {
      "cell_type": "markdown",
      "metadata": {
        "id": "51RF-xb1IjXr",
        "colab_type": "text"
      },
      "source": [
        "#### Get Some Basic Stats"
      ]
    },
    {
      "cell_type": "code",
      "metadata": {
        "id": "JHsB7NcqIjXs",
        "colab_type": "code",
        "outputId": "efd0d363-d9b8-4350-a166-63a8deaee649",
        "colab": {
          "base_uri": "https://localhost:8080/",
          "height": 34
        }
      },
      "source": [
        "#Count the number of records in the dataframe\n",
        "country.count()"
      ],
      "execution_count": 0,
      "outputs": [
        {
          "output_type": "execute_result",
          "data": {
            "text/plain": [
              "263"
            ]
          },
          "metadata": {
            "tags": []
          },
          "execution_count": 12
        }
      ]
    },
    {
      "cell_type": "markdown",
      "metadata": {
        "id": "dBM2OmenIjXw",
        "colab_type": "text"
      },
      "source": [
        "#### Examining Dimensions\n",
        "##### How many different regions do the various countries belong to ?"
      ]
    },
    {
      "cell_type": "code",
      "metadata": {
        "id": "y1uJ4aWLIjXw",
        "colab_type": "code",
        "outputId": "8c9b1478-db5b-4e08-a990-b6f396b1986c",
        "colab": {
          "base_uri": "https://localhost:8080/",
          "height": 297
        }
      },
      "source": [
        "showDF(country.select('Region').distinct(), truncate = False)"
      ],
      "execution_count": 0,
      "outputs": [
        {
          "output_type": "display_data",
          "data": {
            "text/html": [
              "<div>\n",
              "<style scoped>\n",
              "    .dataframe tbody tr th:only-of-type {\n",
              "        vertical-align: middle;\n",
              "    }\n",
              "\n",
              "    .dataframe tbody tr th {\n",
              "        vertical-align: top;\n",
              "    }\n",
              "\n",
              "    .dataframe thead th {\n",
              "        text-align: right;\n",
              "    }\n",
              "</style>\n",
              "<table border=\"1\" class=\"dataframe\">\n",
              "  <thead>\n",
              "    <tr style=\"text-align: right;\">\n",
              "      <th></th>\n",
              "      <th>Region</th>\n",
              "    </tr>\n",
              "  </thead>\n",
              "  <tbody>\n",
              "    <tr>\n",
              "      <th>0</th>\n",
              "      <td>Latin America &amp; Caribbean</td>\n",
              "    </tr>\n",
              "    <tr>\n",
              "      <th>1</th>\n",
              "      <td>South Asia</td>\n",
              "    </tr>\n",
              "    <tr>\n",
              "      <th>2</th>\n",
              "      <td>Sub-Saharan Africa</td>\n",
              "    </tr>\n",
              "    <tr>\n",
              "      <th>3</th>\n",
              "      <td>Europe &amp; Central Asia</td>\n",
              "    </tr>\n",
              "    <tr>\n",
              "      <th>4</th>\n",
              "      <td>None</td>\n",
              "    </tr>\n",
              "    <tr>\n",
              "      <th>5</th>\n",
              "      <td>Middle East &amp; North Africa</td>\n",
              "    </tr>\n",
              "    <tr>\n",
              "      <th>6</th>\n",
              "      <td>East Asia &amp; Pacific</td>\n",
              "    </tr>\n",
              "    <tr>\n",
              "      <th>7</th>\n",
              "      <td>North America</td>\n",
              "    </tr>\n",
              "  </tbody>\n",
              "</table>\n",
              "</div>"
            ],
            "text/plain": [
              "                       Region\n",
              "0  Latin America & Caribbean \n",
              "1  South Asia                \n",
              "2  Sub-Saharan Africa        \n",
              "3  Europe & Central Asia     \n",
              "4  None                      \n",
              "5  Middle East & North Africa\n",
              "6  East Asia & Pacific       \n",
              "7  North America             "
            ]
          },
          "metadata": {
            "tags": []
          }
        }
      ]
    },
    {
      "cell_type": "markdown",
      "metadata": {
        "id": "xdygSNYQIjX0",
        "colab_type": "text"
      },
      "source": [
        "##### How many different income groups do we have across countries?"
      ]
    },
    {
      "cell_type": "code",
      "metadata": {
        "id": "GPuXA8WtIjX1",
        "colab_type": "code",
        "outputId": "c6c6decb-b42e-442d-cae0-c4cb5d8e0e58",
        "colab": {
          "base_uri": "https://localhost:8080/",
          "height": 204
        }
      },
      "source": [
        "showDF(country.select('Income Group').distinct(), truncate = False)"
      ],
      "execution_count": 0,
      "outputs": [
        {
          "output_type": "display_data",
          "data": {
            "text/html": [
              "<div>\n",
              "<style scoped>\n",
              "    .dataframe tbody tr th:only-of-type {\n",
              "        vertical-align: middle;\n",
              "    }\n",
              "\n",
              "    .dataframe tbody tr th {\n",
              "        vertical-align: top;\n",
              "    }\n",
              "\n",
              "    .dataframe thead th {\n",
              "        text-align: right;\n",
              "    }\n",
              "</style>\n",
              "<table border=\"1\" class=\"dataframe\">\n",
              "  <thead>\n",
              "    <tr style=\"text-align: right;\">\n",
              "      <th></th>\n",
              "      <th>Income Group</th>\n",
              "    </tr>\n",
              "  </thead>\n",
              "  <tbody>\n",
              "    <tr>\n",
              "      <th>0</th>\n",
              "      <td>High income</td>\n",
              "    </tr>\n",
              "    <tr>\n",
              "      <th>1</th>\n",
              "      <td>Low income</td>\n",
              "    </tr>\n",
              "    <tr>\n",
              "      <th>2</th>\n",
              "      <td>Lower middle income</td>\n",
              "    </tr>\n",
              "    <tr>\n",
              "      <th>3</th>\n",
              "      <td>Upper middle income</td>\n",
              "    </tr>\n",
              "    <tr>\n",
              "      <th>4</th>\n",
              "      <td>None</td>\n",
              "    </tr>\n",
              "  </tbody>\n",
              "</table>\n",
              "</div>"
            ],
            "text/plain": [
              "          Income Group\n",
              "0  High income        \n",
              "1  Low income         \n",
              "2  Lower middle income\n",
              "3  Upper middle income\n",
              "4  None               "
            ]
          },
          "metadata": {
            "tags": []
          }
        }
      ]
    },
    {
      "cell_type": "markdown",
      "metadata": {
        "id": "eZcpu69eIjX4",
        "colab_type": "text"
      },
      "source": [
        "#### By applying the same steps as we did for the \"WDICountry.csv\" dataset, we can see what the rest of the datasets look like"
      ]
    },
    {
      "cell_type": "markdown",
      "metadata": {
        "id": "2Jj5btOnIjX4",
        "colab_type": "text"
      },
      "source": [
        "###### WDISeries.csv"
      ]
    },
    {
      "cell_type": "code",
      "metadata": {
        "id": "XOMdc27-IjX6",
        "colab_type": "code",
        "colab": {}
      },
      "source": [
        "series = spark.read.format(\"csv\") \\\n",
        "    .option(\"header\", \"true\") \\\n",
        "    .option(\"inferSchema\", \"true\") \\\n",
        "    .load(\"data/WDISeries.csv\")"
      ],
      "execution_count": 0,
      "outputs": []
    },
    {
      "cell_type": "code",
      "metadata": {
        "id": "jmj6Zn-WIjX-",
        "colab_type": "code",
        "outputId": "27a4e0f9-21f4-4f57-c79f-c6c503cc43a9",
        "colab": {
          "base_uri": "https://localhost:8080/",
          "height": 408
        }
      },
      "source": [
        "series.printSchema()"
      ],
      "execution_count": 0,
      "outputs": [
        {
          "output_type": "stream",
          "text": [
            "root\n",
            " |-- Series Code: string (nullable = true)\n",
            " |-- Topic: string (nullable = true)\n",
            " |-- Indicator Name: string (nullable = true)\n",
            " |-- Short definition: string (nullable = true)\n",
            " |-- Long definition: string (nullable = true)\n",
            " |-- Unit of measure: string (nullable = true)\n",
            " |-- Periodicity: string (nullable = true)\n",
            " |-- Base Period: string (nullable = true)\n",
            " |-- Other notes: string (nullable = true)\n",
            " |-- Aggregation method: string (nullable = true)\n",
            " |-- Limitations and exceptions: string (nullable = true)\n",
            " |-- Notes from original source: string (nullable = true)\n",
            " |-- General comments: string (nullable = true)\n",
            " |-- Source: string (nullable = true)\n",
            " |-- Statistical concept and methodology: string (nullable = true)\n",
            " |-- Development relevance: string (nullable = true)\n",
            " |-- Related source links: string (nullable = true)\n",
            " |-- Other web links: string (nullable = true)\n",
            " |-- Related indicators: string (nullable = true)\n",
            " |-- License Type: string (nullable = true)\n",
            " |-- _c20: string (nullable = true)\n",
            "\n"
          ],
          "name": "stdout"
        }
      ]
    },
    {
      "cell_type": "code",
      "metadata": {
        "id": "qmu8xhbbIjYB",
        "colab_type": "code",
        "outputId": "75a81fd6-487c-412a-fdb5-8f8af402bbc7",
        "colab": {
          "base_uri": "https://localhost:8080/",
          "height": 1000
        }
      },
      "source": [
        "showDF(series)"
      ],
      "execution_count": 0,
      "outputs": [
        {
          "output_type": "display_data",
          "data": {
            "text/html": [
              "<div>\n",
              "<style scoped>\n",
              "    .dataframe tbody tr th:only-of-type {\n",
              "        vertical-align: middle;\n",
              "    }\n",
              "\n",
              "    .dataframe tbody tr th {\n",
              "        vertical-align: top;\n",
              "    }\n",
              "\n",
              "    .dataframe thead th {\n",
              "        text-align: right;\n",
              "    }\n",
              "</style>\n",
              "<table border=\"1\" class=\"dataframe\">\n",
              "  <thead>\n",
              "    <tr style=\"text-align: right;\">\n",
              "      <th></th>\n",
              "      <th>Series Code</th>\n",
              "      <th>Topic</th>\n",
              "      <th>Indicator Name</th>\n",
              "      <th>Short definition</th>\n",
              "      <th>Long definition</th>\n",
              "      <th>Unit of measure</th>\n",
              "      <th>Periodicity</th>\n",
              "      <th>Base Period</th>\n",
              "      <th>Other notes</th>\n",
              "      <th>Aggregation method</th>\n",
              "      <th>Limitations and exceptions</th>\n",
              "      <th>Notes from original source</th>\n",
              "      <th>General comments</th>\n",
              "      <th>Source</th>\n",
              "      <th>Statistical concept and methodology</th>\n",
              "      <th>Development relevance</th>\n",
              "      <th>Related source links</th>\n",
              "      <th>Other web links</th>\n",
              "      <th>Related indicators</th>\n",
              "      <th>License Type</th>\n",
              "      <th>_c20</th>\n",
              "    </tr>\n",
              "  </thead>\n",
              "  <tbody>\n",
              "    <tr>\n",
              "      <th>0</th>\n",
              "      <td>AG.AGR.TRAC.NO</td>\n",
              "      <td>Environment: Agricultural production</td>\n",
              "      <td>Agricultural machinery, tractors</td>\n",
              "      <td>None</td>\n",
              "      <td>Agricultural machinery refers to the number of...</td>\n",
              "      <td>None</td>\n",
              "      <td>Annual</td>\n",
              "      <td>None</td>\n",
              "      <td>None</td>\n",
              "      <td>Sum</td>\n",
              "      <td>The data are collected by the Food and Agricul...</td>\n",
              "      <td>None</td>\n",
              "      <td>None</td>\n",
              "      <td>Food and Agriculture Organization, electronic ...</td>\n",
              "      <td>A tractor provides the power and traction to m...</td>\n",
              "      <td>Agricultural land covers more than one-third o...</td>\n",
              "      <td>None</td>\n",
              "      <td>None</td>\n",
              "      <td>None</td>\n",
              "      <td>CC BY-4.0</td>\n",
              "      <td>None</td>\n",
              "    </tr>\n",
              "    <tr>\n",
              "      <th>1</th>\n",
              "      <td>AG.CON.FERT.PT.ZS</td>\n",
              "      <td>Environment: Agricultural production</td>\n",
              "      <td>Fertilizer consumption (% of fertilizer produc...</td>\n",
              "      <td>None</td>\n",
              "      <td>Fertilizer consumption measures the quantity o...</td>\n",
              "      <td>None</td>\n",
              "      <td>Annual</td>\n",
              "      <td>None</td>\n",
              "      <td>None</td>\n",
              "      <td>Weighted average</td>\n",
              "      <td>The FAO has revised the time series for fertil...</td>\n",
              "      <td>None</td>\n",
              "      <td>None</td>\n",
              "      <td>Food and Agriculture Organization, electronic ...</td>\n",
              "      <td>Fertilizer consumption measures the quantity o...</td>\n",
              "      <td>Factors such as the green revolution, has led ...</td>\n",
              "      <td>None</td>\n",
              "      <td>None</td>\n",
              "      <td>None</td>\n",
              "      <td>CC BY-4.0</td>\n",
              "      <td>None</td>\n",
              "    </tr>\n",
              "    <tr>\n",
              "      <th>2</th>\n",
              "      <td>AG.CON.FERT.ZS</td>\n",
              "      <td>Environment: Agricultural production</td>\n",
              "      <td>Fertilizer consumption (kilograms per hectare ...</td>\n",
              "      <td>None</td>\n",
              "      <td>Fertilizer consumption measures the quantity o...</td>\n",
              "      <td>None</td>\n",
              "      <td>Annual</td>\n",
              "      <td>None</td>\n",
              "      <td>None</td>\n",
              "      <td>Weighted average</td>\n",
              "      <td>The FAO has revised the time series for fertil...</td>\n",
              "      <td>None</td>\n",
              "      <td>None</td>\n",
              "      <td>Food and Agriculture Organization, electronic ...</td>\n",
              "      <td>Fertilizer consumption measures the quantity o...</td>\n",
              "      <td>Factors such as the green revolution, has led ...</td>\n",
              "      <td>None</td>\n",
              "      <td>None</td>\n",
              "      <td>None</td>\n",
              "      <td>CC BY-4.0</td>\n",
              "      <td>None</td>\n",
              "    </tr>\n",
              "    <tr>\n",
              "      <th>3</th>\n",
              "      <td>AG.LND.AGRI.K2</td>\n",
              "      <td>Environment: Land use</td>\n",
              "      <td>Agricultural land (sq. km)</td>\n",
              "      <td>None</td>\n",
              "      <td>Agricultural land refers to the share of land ...</td>\n",
              "      <td>None</td>\n",
              "      <td>Annual</td>\n",
              "      <td>None</td>\n",
              "      <td>None</td>\n",
              "      <td>Sum</td>\n",
              "      <td>The data are collected by the Food and Agricul...</td>\n",
              "      <td>None</td>\n",
              "      <td>None</td>\n",
              "      <td>Food and Agriculture Organization, electronic ...</td>\n",
              "      <td>Agricultural land constitutes only a part of a...</td>\n",
              "      <td>Agricultural land covers more than one-third o...</td>\n",
              "      <td>None</td>\n",
              "      <td>None</td>\n",
              "      <td>None</td>\n",
              "      <td>CC BY-4.0</td>\n",
              "      <td>None</td>\n",
              "    </tr>\n",
              "    <tr>\n",
              "      <th>4</th>\n",
              "      <td>AG.LND.AGRI.ZS</td>\n",
              "      <td>Environment: Land use</td>\n",
              "      <td>Agricultural land (% of land area)</td>\n",
              "      <td>None</td>\n",
              "      <td>Agricultural land refers to the share of land ...</td>\n",
              "      <td>None</td>\n",
              "      <td>Annual</td>\n",
              "      <td>None</td>\n",
              "      <td>None</td>\n",
              "      <td>Weighted average</td>\n",
              "      <td>The data are collected by the Food and Agricul...</td>\n",
              "      <td>None</td>\n",
              "      <td>None</td>\n",
              "      <td>Food and Agriculture Organization, electronic ...</td>\n",
              "      <td>Agriculture is still a major sector in many ec...</td>\n",
              "      <td>Agricultural land covers more than one-third o...</td>\n",
              "      <td>None</td>\n",
              "      <td>None</td>\n",
              "      <td>None</td>\n",
              "      <td>CC BY-4.0</td>\n",
              "      <td>None</td>\n",
              "    </tr>\n",
              "    <tr>\n",
              "      <th>5</th>\n",
              "      <td>AG.LND.ARBL.HA</td>\n",
              "      <td>Environment: Land use</td>\n",
              "      <td>Arable land (hectares)</td>\n",
              "      <td>None</td>\n",
              "      <td>Arable land (in hectares) includes land define...</td>\n",
              "      <td>None</td>\n",
              "      <td>Annual</td>\n",
              "      <td>None</td>\n",
              "      <td>None</td>\n",
              "      <td>None</td>\n",
              "      <td>The Food and Agriculture Organization (FAO) tr...</td>\n",
              "      <td>None</td>\n",
              "      <td>None</td>\n",
              "      <td>Food and Agriculture Organization, electronic ...</td>\n",
              "      <td>Temporary fallow land refers to land left fall...</td>\n",
              "      <td>Agricultural land covers more than one-third o...</td>\n",
              "      <td>None</td>\n",
              "      <td>None</td>\n",
              "      <td>None</td>\n",
              "      <td>CC BY-4.0</td>\n",
              "      <td>None</td>\n",
              "    </tr>\n",
              "    <tr>\n",
              "      <th>6</th>\n",
              "      <td>AG.LND.ARBL.HA.PC</td>\n",
              "      <td>Environment: Land use</td>\n",
              "      <td>Arable land (hectares per person)</td>\n",
              "      <td>None</td>\n",
              "      <td>Arable land (hectares per person) includes lan...</td>\n",
              "      <td>None</td>\n",
              "      <td>Annual</td>\n",
              "      <td>None</td>\n",
              "      <td>None</td>\n",
              "      <td>Weighted Average</td>\n",
              "      <td>The Food and Agriculture Organization (FAO) tr...</td>\n",
              "      <td>None</td>\n",
              "      <td>None</td>\n",
              "      <td>Food and Agriculture Organization, electronic ...</td>\n",
              "      <td>Temporary fallow land refers to land left fall...</td>\n",
              "      <td>Agricultural land covers about one-third of th...</td>\n",
              "      <td>None</td>\n",
              "      <td>None</td>\n",
              "      <td>None</td>\n",
              "      <td>CC BY-4.0</td>\n",
              "      <td>None</td>\n",
              "    </tr>\n",
              "    <tr>\n",
              "      <th>7</th>\n",
              "      <td>AG.LND.ARBL.ZS</td>\n",
              "      <td>Environment: Land use</td>\n",
              "      <td>Arable land (% of land area)</td>\n",
              "      <td>None</td>\n",
              "      <td>Arable land includes land defined by the FAO a...</td>\n",
              "      <td>None</td>\n",
              "      <td>Annual</td>\n",
              "      <td>None</td>\n",
              "      <td>None</td>\n",
              "      <td>Weighted average</td>\n",
              "      <td>The Food and Agriculture Organization (FAO) tr...</td>\n",
              "      <td>None</td>\n",
              "      <td>None</td>\n",
              "      <td>Food and Agriculture Organization, electronic ...</td>\n",
              "      <td>Temporary fallow land refers to land left fall...</td>\n",
              "      <td>Agricultural land covers more than one-third o...</td>\n",
              "      <td>None</td>\n",
              "      <td>None</td>\n",
              "      <td>None</td>\n",
              "      <td>CC BY-4.0</td>\n",
              "      <td>None</td>\n",
              "    </tr>\n",
              "    <tr>\n",
              "      <th>8</th>\n",
              "      <td>AG.LND.CREL.HA</td>\n",
              "      <td>Environment: Agricultural production</td>\n",
              "      <td>Land under cereal production (hectares)</td>\n",
              "      <td>None</td>\n",
              "      <td>Land under cereal production refers to harvest...</td>\n",
              "      <td>None</td>\n",
              "      <td>Annual</td>\n",
              "      <td>None</td>\n",
              "      <td>None</td>\n",
              "      <td>Sum</td>\n",
              "      <td>The data are collected by the Food and Agricul...</td>\n",
              "      <td>None</td>\n",
              "      <td>None</td>\n",
              "      <td>Food and Agriculture Organization, electronic ...</td>\n",
              "      <td>Cereals production includes wheat, rice, maize...</td>\n",
              "      <td>The cultivation of cereals varies widely in di...</td>\n",
              "      <td>None</td>\n",
              "      <td>None</td>\n",
              "      <td>None</td>\n",
              "      <td>CC BY-4.0</td>\n",
              "      <td>None</td>\n",
              "    </tr>\n",
              "    <tr>\n",
              "      <th>9</th>\n",
              "      <td>AG.LND.CROP.ZS</td>\n",
              "      <td>Environment: Land use</td>\n",
              "      <td>Permanent cropland (% of land area)</td>\n",
              "      <td>None</td>\n",
              "      <td>Permanent cropland is land cultivated with cro...</td>\n",
              "      <td>None</td>\n",
              "      <td>Annual</td>\n",
              "      <td>None</td>\n",
              "      <td>None</td>\n",
              "      <td>Weighted average</td>\n",
              "      <td>The Food and Agriculture Organization (FAO) tr...</td>\n",
              "      <td>None</td>\n",
              "      <td>None</td>\n",
              "      <td>Food and Agriculture Organization, electronic ...</td>\n",
              "      <td>The data on Permanent cropland and land area a...</td>\n",
              "      <td>Agricultural land covers more than one-third o...</td>\n",
              "      <td>None</td>\n",
              "      <td>None</td>\n",
              "      <td>None</td>\n",
              "      <td>CC BY-4.0</td>\n",
              "      <td>None</td>\n",
              "    </tr>\n",
              "    <tr>\n",
              "      <th>10</th>\n",
              "      <td>AG.LND.EL5M.RU.K2</td>\n",
              "      <td>Environment: Land use</td>\n",
              "      <td>Rural land area where elevation is below 5 met...</td>\n",
              "      <td>None</td>\n",
              "      <td>Rural land area below 5m is the total rural la...</td>\n",
              "      <td>None</td>\n",
              "      <td>Annual</td>\n",
              "      <td>None</td>\n",
              "      <td>None</td>\n",
              "      <td>Sum</td>\n",
              "      <td>The 2007 Intergovernmental Panel on Climate Ch...</td>\n",
              "      <td>None</td>\n",
              "      <td>None</td>\n",
              "      <td>Center for International Earth Science Informa...</td>\n",
              "      <td>Elevation data used to generate the low elevat...</td>\n",
              "      <td>None</td>\n",
              "      <td>None</td>\n",
              "      <td>None</td>\n",
              "      <td>None</td>\n",
              "      <td>CC BY-4.0</td>\n",
              "      <td>None</td>\n",
              "    </tr>\n",
              "    <tr>\n",
              "      <th>11</th>\n",
              "      <td>AG.LND.EL5M.RU.ZS</td>\n",
              "      <td>Environment: Land use</td>\n",
              "      <td>Rural land area where elevation is below 5 met...</td>\n",
              "      <td>None</td>\n",
              "      <td>Rural land area below 5m is the percentage of ...</td>\n",
              "      <td>None</td>\n",
              "      <td>Annual</td>\n",
              "      <td>None</td>\n",
              "      <td>None</td>\n",
              "      <td>Weighted Average</td>\n",
              "      <td>The 2007 Intergovernmental Panel on Climate Ch...</td>\n",
              "      <td>None</td>\n",
              "      <td>None</td>\n",
              "      <td>Center for International Earth Science Informa...</td>\n",
              "      <td>Elevation data used to generate the low elevat...</td>\n",
              "      <td>Scientists use the terms climate change and gl...</td>\n",
              "      <td>None</td>\n",
              "      <td>None</td>\n",
              "      <td>None</td>\n",
              "      <td>CC BY-4.0</td>\n",
              "      <td>None</td>\n",
              "    </tr>\n",
              "    <tr>\n",
              "      <th>12</th>\n",
              "      <td>AG.LND.EL5M.UR.K2</td>\n",
              "      <td>Environment: Land use</td>\n",
              "      <td>Urban land area where elevation is below 5 met...</td>\n",
              "      <td>None</td>\n",
              "      <td>Urban land area below 5m is the total urban la...</td>\n",
              "      <td>None</td>\n",
              "      <td>Annual</td>\n",
              "      <td>None</td>\n",
              "      <td>None</td>\n",
              "      <td>Sum</td>\n",
              "      <td>None</td>\n",
              "      <td>None</td>\n",
              "      <td>None</td>\n",
              "      <td>Center for International Earth Science Informa...</td>\n",
              "      <td>Elevation data used to generate the low elevat...</td>\n",
              "      <td>Scientists use the terms climate change and gl...</td>\n",
              "      <td>None</td>\n",
              "      <td>None</td>\n",
              "      <td>None</td>\n",
              "      <td>CC BY-4.0</td>\n",
              "      <td>None</td>\n",
              "    </tr>\n",
              "    <tr>\n",
              "      <th>13</th>\n",
              "      <td>AG.LND.EL5M.UR.ZS</td>\n",
              "      <td>Environment: Land use</td>\n",
              "      <td>Urban land area where elevation is below 5 met...</td>\n",
              "      <td>None</td>\n",
              "      <td>Urban land area below 5m is the percentage of ...</td>\n",
              "      <td>None</td>\n",
              "      <td>Annual</td>\n",
              "      <td>None</td>\n",
              "      <td>None</td>\n",
              "      <td>Weighted Average</td>\n",
              "      <td>None</td>\n",
              "      <td>None</td>\n",
              "      <td>None</td>\n",
              "      <td>Center for International Earth Science Informa...</td>\n",
              "      <td>Elevation data used to generate the low elevat...</td>\n",
              "      <td>Scientists use the terms climate change and gl...</td>\n",
              "      <td>None</td>\n",
              "      <td>None</td>\n",
              "      <td>None</td>\n",
              "      <td>CC BY-4.0</td>\n",
              "      <td>None</td>\n",
              "    </tr>\n",
              "    <tr>\n",
              "      <th>14</th>\n",
              "      <td>AG.LND.EL5M.ZS</td>\n",
              "      <td>Environment: Land use</td>\n",
              "      <td>Land area where elevation is below 5 meters (%...</td>\n",
              "      <td>None</td>\n",
              "      <td>Land area below 5m is the percentage of total ...</td>\n",
              "      <td>None</td>\n",
              "      <td>Annual</td>\n",
              "      <td>None</td>\n",
              "      <td>None</td>\n",
              "      <td>Weighted Average</td>\n",
              "      <td>The 2007 Intergovernmental Panel on Climate Ch...</td>\n",
              "      <td>None</td>\n",
              "      <td>None</td>\n",
              "      <td>Center for International Earth Science Informa...</td>\n",
              "      <td>Elevation data used to generate the low elevat...</td>\n",
              "      <td>Scientists use the terms climate change and gl...</td>\n",
              "      <td>None</td>\n",
              "      <td>None</td>\n",
              "      <td>None</td>\n",
              "      <td>CC BY-4.0</td>\n",
              "      <td>None</td>\n",
              "    </tr>\n",
              "    <tr>\n",
              "      <th>15</th>\n",
              "      <td>AG.LND.FRST.K2</td>\n",
              "      <td>Environment: Land use</td>\n",
              "      <td>Forest area (sq. km)</td>\n",
              "      <td>None</td>\n",
              "      <td>Forest area is land under natural or planted s...</td>\n",
              "      <td>None</td>\n",
              "      <td>Annual</td>\n",
              "      <td>None</td>\n",
              "      <td>None</td>\n",
              "      <td>Sum</td>\n",
              "      <td>The Food and Agricultural Organization (FAO) h...</td>\n",
              "      <td>None</td>\n",
              "      <td>None</td>\n",
              "      <td>Food and Agriculture Organization, electronic ...</td>\n",
              "      <td>Forest is determined both by the presence of t...</td>\n",
              "      <td>As threats to biodiversity mount, the internat...</td>\n",
              "      <td>None</td>\n",
              "      <td>None</td>\n",
              "      <td>None</td>\n",
              "      <td>CC BY-4.0</td>\n",
              "      <td>None</td>\n",
              "    </tr>\n",
              "    <tr>\n",
              "      <th>16</th>\n",
              "      <td>AG.LND.FRST.ZS</td>\n",
              "      <td>Environment: Land use</td>\n",
              "      <td>Forest area (% of land area)</td>\n",
              "      <td>None</td>\n",
              "      <td>Forest area is land under natural or planted s...</td>\n",
              "      <td>None</td>\n",
              "      <td>Annual</td>\n",
              "      <td>None</td>\n",
              "      <td>None</td>\n",
              "      <td>Weighted average</td>\n",
              "      <td>FAO has been collecting and analyzing data on ...</td>\n",
              "      <td>None</td>\n",
              "      <td>None</td>\n",
              "      <td>Food and Agriculture Organization, electronic ...</td>\n",
              "      <td>Forest is determined both by the presence of t...</td>\n",
              "      <td>As threats to biodiversity mount, the internat...</td>\n",
              "      <td>None</td>\n",
              "      <td>None</td>\n",
              "      <td>None</td>\n",
              "      <td>CC BY-4.0</td>\n",
              "      <td>None</td>\n",
              "    </tr>\n",
              "    <tr>\n",
              "      <th>17</th>\n",
              "      <td>AG.LND.IRIG.AG.ZS</td>\n",
              "      <td>Environment: Land use</td>\n",
              "      <td>Agricultural irrigated land (% of total agricu...</td>\n",
              "      <td>None</td>\n",
              "      <td>Agricultural irrigated land refers to agricult...</td>\n",
              "      <td>None</td>\n",
              "      <td>Annual</td>\n",
              "      <td>None</td>\n",
              "      <td>None</td>\n",
              "      <td>Weighted average</td>\n",
              "      <td>The data are collected by the Food and Agricul...</td>\n",
              "      <td>None</td>\n",
              "      <td>None</td>\n",
              "      <td>Food and Agriculture Organization, electronic ...</td>\n",
              "      <td>Irrigated agricultural area refers to area equ...</td>\n",
              "      <td>Worldwide, irrigated agriculture accounts for ...</td>\n",
              "      <td>None</td>\n",
              "      <td>None</td>\n",
              "      <td>None</td>\n",
              "      <td>CC BY-4.0</td>\n",
              "      <td>None</td>\n",
              "    </tr>\n",
              "    <tr>\n",
              "      <th>18</th>\n",
              "      <td>AG.LND.PRCP.MM</td>\n",
              "      <td>Environment: Land use</td>\n",
              "      <td>Average precipitation in depth (mm per year)</td>\n",
              "      <td>None</td>\n",
              "      <td>Average precipitation is the long-term average...</td>\n",
              "      <td>None</td>\n",
              "      <td>Annual</td>\n",
              "      <td>None</td>\n",
              "      <td>None</td>\n",
              "      <td>None</td>\n",
              "      <td>The data are collected by the Food and Agricul...</td>\n",
              "      <td>None</td>\n",
              "      <td>None</td>\n",
              "      <td>Food and Agriculture Organization, electronic ...</td>\n",
              "      <td>None</td>\n",
              "      <td>The agriculture sector is the most water-inten...</td>\n",
              "      <td>None</td>\n",
              "      <td>None</td>\n",
              "      <td>None</td>\n",
              "      <td>CC BY-4.0</td>\n",
              "      <td>None</td>\n",
              "    </tr>\n",
              "    <tr>\n",
              "      <th>19</th>\n",
              "      <td>AG.LND.TOTL.K2</td>\n",
              "      <td>Environment: Land use</td>\n",
              "      <td>Land area (sq. km)</td>\n",
              "      <td>None</td>\n",
              "      <td>Land area is a country's total area, excluding...</td>\n",
              "      <td>None</td>\n",
              "      <td>Annual</td>\n",
              "      <td>None</td>\n",
              "      <td>None</td>\n",
              "      <td>Sum</td>\n",
              "      <td>The data are collected by the Food and Agricul...</td>\n",
              "      <td>None</td>\n",
              "      <td>None</td>\n",
              "      <td>Food and Agriculture Organization, electronic ...</td>\n",
              "      <td>Total land area does not include inland water ...</td>\n",
              "      <td>Land area is particularly important for unders...</td>\n",
              "      <td>None</td>\n",
              "      <td>None</td>\n",
              "      <td>None</td>\n",
              "      <td>CC BY-4.0</td>\n",
              "      <td>None</td>\n",
              "    </tr>\n",
              "  </tbody>\n",
              "</table>\n",
              "</div>"
            ],
            "text/plain": [
              "          Series Code                                 Topic  ... License Type  _c20\n",
              "0      AG.AGR.TRAC.NO  Environment: Agricultural production  ...    CC BY-4.0  None\n",
              "1   AG.CON.FERT.PT.ZS  Environment: Agricultural production  ...    CC BY-4.0  None\n",
              "2      AG.CON.FERT.ZS  Environment: Agricultural production  ...    CC BY-4.0  None\n",
              "3      AG.LND.AGRI.K2                 Environment: Land use  ...    CC BY-4.0  None\n",
              "4      AG.LND.AGRI.ZS                 Environment: Land use  ...    CC BY-4.0  None\n",
              "5      AG.LND.ARBL.HA                 Environment: Land use  ...    CC BY-4.0  None\n",
              "6   AG.LND.ARBL.HA.PC                 Environment: Land use  ...    CC BY-4.0  None\n",
              "7      AG.LND.ARBL.ZS                 Environment: Land use  ...    CC BY-4.0  None\n",
              "8      AG.LND.CREL.HA  Environment: Agricultural production  ...    CC BY-4.0  None\n",
              "9      AG.LND.CROP.ZS                 Environment: Land use  ...    CC BY-4.0  None\n",
              "10  AG.LND.EL5M.RU.K2                 Environment: Land use  ...    CC BY-4.0  None\n",
              "11  AG.LND.EL5M.RU.ZS                 Environment: Land use  ...    CC BY-4.0  None\n",
              "12  AG.LND.EL5M.UR.K2                 Environment: Land use  ...    CC BY-4.0  None\n",
              "13  AG.LND.EL5M.UR.ZS                 Environment: Land use  ...    CC BY-4.0  None\n",
              "14     AG.LND.EL5M.ZS                 Environment: Land use  ...    CC BY-4.0  None\n",
              "15     AG.LND.FRST.K2                 Environment: Land use  ...    CC BY-4.0  None\n",
              "16     AG.LND.FRST.ZS                 Environment: Land use  ...    CC BY-4.0  None\n",
              "17  AG.LND.IRIG.AG.ZS                 Environment: Land use  ...    CC BY-4.0  None\n",
              "18     AG.LND.PRCP.MM                 Environment: Land use  ...    CC BY-4.0  None\n",
              "19     AG.LND.TOTL.K2                 Environment: Land use  ...    CC BY-4.0  None\n",
              "\n",
              "[20 rows x 21 columns]"
            ]
          },
          "metadata": {
            "tags": []
          }
        }
      ]
    },
    {
      "cell_type": "code",
      "metadata": {
        "id": "giVBCt4aIjYE",
        "colab_type": "code",
        "outputId": "73a5c340-f46a-4fd8-e2a2-d443fdb8ff0c",
        "colab": {
          "base_uri": "https://localhost:8080/",
          "height": 34
        }
      },
      "source": [
        "series.count()"
      ],
      "execution_count": 0,
      "outputs": [
        {
          "output_type": "execute_result",
          "data": {
            "text/plain": [
              "1593"
            ]
          },
          "metadata": {
            "tags": []
          },
          "execution_count": 18
        }
      ]
    },
    {
      "cell_type": "markdown",
      "metadata": {
        "id": "_emv1pjNIjYH",
        "colab_type": "text"
      },
      "source": [
        "#### Examining Dimensions\n",
        "##### What are the different periodicities or aggregation methods we might expect to see in the data ?"
      ]
    },
    {
      "cell_type": "code",
      "metadata": {
        "id": "_-TQlOuGIjYI",
        "colab_type": "code",
        "outputId": "6fd08d5a-d1ce-4ed4-b885-ef25aa73c46d",
        "colab": {
          "base_uri": "https://localhost:8080/"
        }
      },
      "source": [
        "showDF(series.select('Periodicity').distinct(), truncate = False)"
      ],
      "execution_count": 0,
      "outputs": [
        {
          "output_type": "display_data",
          "data": {
            "text/html": [
              "<div>\n",
              "<style scoped>\n",
              "    .dataframe tbody tr th:only-of-type {\n",
              "        vertical-align: middle;\n",
              "    }\n",
              "\n",
              "    .dataframe tbody tr th {\n",
              "        vertical-align: top;\n",
              "    }\n",
              "\n",
              "    .dataframe thead th {\n",
              "        text-align: right;\n",
              "    }\n",
              "</style>\n",
              "<table border=\"1\" class=\"dataframe\">\n",
              "  <thead>\n",
              "    <tr style=\"text-align: right;\">\n",
              "      <th></th>\n",
              "      <th>Periodicity</th>\n",
              "    </tr>\n",
              "  </thead>\n",
              "  <tbody>\n",
              "    <tr>\n",
              "      <th>0</th>\n",
              "      <td>Annual</td>\n",
              "    </tr>\n",
              "    <tr>\n",
              "      <th>1</th>\n",
              "      <td>None</td>\n",
              "    </tr>\n",
              "    <tr>\n",
              "      <th>2</th>\n",
              "      <td>International Civil Aviation Organization, Civil Aviation Statistics of the World and ICAO staff estimates.</td>\n",
              "    </tr>\n",
              "    <tr>\n",
              "      <th>3</th>\n",
              "      <td>Quarterly (represented as Annual)</td>\n",
              "    </tr>\n",
              "  </tbody>\n",
              "</table>\n",
              "</div>"
            ],
            "text/plain": [
              "                                                                                                   Periodicity\n",
              "0  Annual                                                                                                     \n",
              "1  None                                                                                                       \n",
              "2  International Civil Aviation Organization, Civil Aviation Statistics of the World and ICAO staff estimates.\n",
              "3  Quarterly (represented as Annual)                                                                          "
            ]
          },
          "metadata": {
            "tags": []
          }
        }
      ]
    },
    {
      "cell_type": "code",
      "metadata": {
        "id": "prnjUbDcIjYL",
        "colab_type": "code",
        "outputId": "8d7d749d-f1ab-4f13-ad0c-849ffb5b9612",
        "colab": {
          "base_uri": "https://localhost:8080/"
        }
      },
      "source": [
        "showDF(series.select('Aggregation Method').distinct(), truncate = False)"
      ],
      "execution_count": 0,
      "outputs": [
        {
          "output_type": "display_data",
          "data": {
            "text/html": [
              "<div>\n",
              "<style scoped>\n",
              "    .dataframe tbody tr th:only-of-type {\n",
              "        vertical-align: middle;\n",
              "    }\n",
              "\n",
              "    .dataframe tbody tr th {\n",
              "        vertical-align: top;\n",
              "    }\n",
              "\n",
              "    .dataframe thead th {\n",
              "        text-align: right;\n",
              "    }\n",
              "</style>\n",
              "<table border=\"1\" class=\"dataframe\">\n",
              "  <thead>\n",
              "    <tr style=\"text-align: right;\">\n",
              "      <th></th>\n",
              "      <th>Aggregation Method</th>\n",
              "    </tr>\n",
              "  </thead>\n",
              "  <tbody>\n",
              "    <tr>\n",
              "      <th>0</th>\n",
              "      <td>Sum</td>\n",
              "    </tr>\n",
              "    <tr>\n",
              "      <th>1</th>\n",
              "      <td>Weighted average</td>\n",
              "    </tr>\n",
              "    <tr>\n",
              "      <th>2</th>\n",
              "      <td>None</td>\n",
              "    </tr>\n",
              "    <tr>\n",
              "      <th>3</th>\n",
              "      <td>Weighted Average</td>\n",
              "    </tr>\n",
              "    <tr>\n",
              "      <th>4</th>\n",
              "      <td>Gap-filled total</td>\n",
              "    </tr>\n",
              "    <tr>\n",
              "      <th>5</th>\n",
              "      <td>Median</td>\n",
              "    </tr>\n",
              "    <tr>\n",
              "      <th>6</th>\n",
              "      <td>Unweighted average</td>\n",
              "    </tr>\n",
              "    <tr>\n",
              "      <th>7</th>\n",
              "      <td>Simple average</td>\n",
              "    </tr>\n",
              "    <tr>\n",
              "      <th>8</th>\n",
              "      <td>Linear mixed-effect model estimates</td>\n",
              "    </tr>\n",
              "  </tbody>\n",
              "</table>\n",
              "</div>"
            ],
            "text/plain": [
              "                    Aggregation Method\n",
              "0  Sum                                \n",
              "1  Weighted average                   \n",
              "2  None                               \n",
              "3  Weighted Average                   \n",
              "4  Gap-filled total                   \n",
              "5  Median                             \n",
              "6  Unweighted average                 \n",
              "7  Simple average                     \n",
              "8  Linear mixed-effect model estimates"
            ]
          },
          "metadata": {
            "tags": []
          }
        }
      ]
    },
    {
      "cell_type": "markdown",
      "metadata": {
        "id": "ehPz8ItOIjYO",
        "colab_type": "text"
      },
      "source": [
        "## Exercise"
      ]
    },
    {
      "cell_type": "markdown",
      "metadata": {
        "id": "92mk1ekpIjYP",
        "colab_type": "text"
      },
      "source": [
        "Repeat the same steps for the `WDIData.csv` file and read it into a dataframe called `indicators`."
      ]
    },
    {
      "cell_type": "code",
      "metadata": {
        "id": "uKM9YI7IIjYQ",
        "colab_type": "code",
        "outputId": "d6c60c49-4498-4e3b-fbf0-1240db6cb06d",
        "colab": {
          "base_uri": "https://localhost:8080/",
          "height": 34
        }
      },
      "source": [
        "# Read the data\n",
        "indicators = spark.read.format(\"csv\") \\\n",
        "    .option(\"header\", \"true\") \\\n",
        "    .option(\"inferSchema\", \"true\") \\\n",
        "    .load(\"data/WDIData.csv\")\n",
        "\n",
        "indicators.count()"
      ],
      "execution_count": 0,
      "outputs": [
        {
          "output_type": "execute_result",
          "data": {
            "text/plain": [
              "420024"
            ]
          },
          "metadata": {
            "tags": []
          },
          "execution_count": 21
        }
      ]
    },
    {
      "cell_type": "code",
      "metadata": {
        "id": "E9EUw7S-IjYT",
        "colab_type": "code",
        "colab": {}
      },
      "source": [
        "# Inspect the schema\n"
      ],
      "execution_count": 0,
      "outputs": []
    },
    {
      "cell_type": "code",
      "metadata": {
        "id": "D8ZGPy9uIjYZ",
        "colab_type": "code",
        "colab": {}
      },
      "source": [
        "# Look at sample records\n"
      ],
      "execution_count": 0,
      "outputs": []
    },
    {
      "cell_type": "code",
      "metadata": {
        "id": "SUogzendIjYb",
        "colab_type": "code",
        "colab": {}
      },
      "source": [
        "# Get some basic stats\n"
      ],
      "execution_count": 0,
      "outputs": []
    },
    {
      "cell_type": "markdown",
      "metadata": {
        "id": "51xxYOvZIjYd",
        "colab_type": "text"
      },
      "source": [
        "# Data Transformation and Quality"
      ]
    },
    {
      "cell_type": "markdown",
      "metadata": {
        "id": "Fg8jf_r7IjYf",
        "colab_type": "text"
      },
      "source": [
        "### Step 4 - Transform the data"
      ]
    },
    {
      "cell_type": "markdown",
      "metadata": {
        "id": "pT5GxNYuIjYf",
        "colab_type": "text"
      },
      "source": [
        "#### Transform the Country Dataset\n",
        "- Select the columns that we will need for our data model\n",
        "- Rename columns for data ingestion\n",
        "\n",
        "We'll be using the various operations supported for a DataFrame.  You can view the complete list [here](http://spark.apache.org/docs/2.1.1/api/python/pyspark.sql.html#pyspark.sql.DataFrame) ."
      ]
    },
    {
      "cell_type": "code",
      "metadata": {
        "id": "D0m2fHZyIjYg",
        "colab_type": "code",
        "outputId": "75d7f0d9-8b99-4743-c796-e1bbce4e8043",
        "colab": {
          "base_uri": "https://localhost:8080/",
          "height": 669
        }
      },
      "source": [
        "countryDim = country \\\n",
        "    .select(\"2-alpha code\", \"Country Code\", \"Short Name\", \"Long Name\", \"Region\", \"Income Group\") \\\n",
        "    .withColumnRenamed(\"2-alpha code\", \"country_iso_code\") \\\n",
        "    .withColumnRenamed(\"Country Code\", \"wb_country_code\") \\\n",
        "    .withColumnRenamed(\"Short Name\", \"country_name\") \\\n",
        "    .withColumnRenamed(\"Long Name\", \"country_long_name\") \\\n",
        "    .withColumnRenamed(\"Region\", \"region\") \\\n",
        "    .withColumnRenamed(\"Income Group\", \"income_group\")\n",
        "    \n",
        "showDF(countryDim)"
      ],
      "execution_count": 0,
      "outputs": [
        {
          "output_type": "display_data",
          "data": {
            "text/html": [
              "<div>\n",
              "<style scoped>\n",
              "    .dataframe tbody tr th:only-of-type {\n",
              "        vertical-align: middle;\n",
              "    }\n",
              "\n",
              "    .dataframe tbody tr th {\n",
              "        vertical-align: top;\n",
              "    }\n",
              "\n",
              "    .dataframe thead th {\n",
              "        text-align: right;\n",
              "    }\n",
              "</style>\n",
              "<table border=\"1\" class=\"dataframe\">\n",
              "  <thead>\n",
              "    <tr style=\"text-align: right;\">\n",
              "      <th></th>\n",
              "      <th>country_iso_code</th>\n",
              "      <th>wb_country_code</th>\n",
              "      <th>country_name</th>\n",
              "      <th>country_long_name</th>\n",
              "      <th>region</th>\n",
              "      <th>income_group</th>\n",
              "    </tr>\n",
              "  </thead>\n",
              "  <tbody>\n",
              "    <tr>\n",
              "      <th>0</th>\n",
              "      <td>AW</td>\n",
              "      <td>ABW</td>\n",
              "      <td>Aruba</td>\n",
              "      <td>Aruba</td>\n",
              "      <td>Latin America &amp; Caribbean</td>\n",
              "      <td>High income</td>\n",
              "    </tr>\n",
              "    <tr>\n",
              "      <th>1</th>\n",
              "      <td>AF</td>\n",
              "      <td>AFG</td>\n",
              "      <td>Afghanistan</td>\n",
              "      <td>Islamic State of Afghanistan</td>\n",
              "      <td>South Asia</td>\n",
              "      <td>Low income</td>\n",
              "    </tr>\n",
              "    <tr>\n",
              "      <th>2</th>\n",
              "      <td>AO</td>\n",
              "      <td>AGO</td>\n",
              "      <td>Angola</td>\n",
              "      <td>People's Republic of Angola</td>\n",
              "      <td>Sub-Saharan Africa</td>\n",
              "      <td>Lower middle income</td>\n",
              "    </tr>\n",
              "    <tr>\n",
              "      <th>3</th>\n",
              "      <td>AL</td>\n",
              "      <td>ALB</td>\n",
              "      <td>Albania</td>\n",
              "      <td>Republic of Albania</td>\n",
              "      <td>Europe &amp; Central Asia</td>\n",
              "      <td>Upper middle income</td>\n",
              "    </tr>\n",
              "    <tr>\n",
              "      <th>4</th>\n",
              "      <td>AD</td>\n",
              "      <td>AND</td>\n",
              "      <td>Andorra</td>\n",
              "      <td>Principality of Andorra</td>\n",
              "      <td>Europe &amp; Central Asia</td>\n",
              "      <td>High income</td>\n",
              "    </tr>\n",
              "    <tr>\n",
              "      <th>5</th>\n",
              "      <td>1A</td>\n",
              "      <td>ARB</td>\n",
              "      <td>Arab World</td>\n",
              "      <td>Arab World</td>\n",
              "      <td>None</td>\n",
              "      <td>None</td>\n",
              "    </tr>\n",
              "    <tr>\n",
              "      <th>6</th>\n",
              "      <td>AE</td>\n",
              "      <td>ARE</td>\n",
              "      <td>United Arab Emirates</td>\n",
              "      <td>United Arab Emirates</td>\n",
              "      <td>Middle East &amp; North Africa</td>\n",
              "      <td>High income</td>\n",
              "    </tr>\n",
              "    <tr>\n",
              "      <th>7</th>\n",
              "      <td>AR</td>\n",
              "      <td>ARG</td>\n",
              "      <td>Argentina</td>\n",
              "      <td>Argentine Republic</td>\n",
              "      <td>None</td>\n",
              "      <td>None</td>\n",
              "    </tr>\n",
              "    <tr>\n",
              "      <th>8</th>\n",
              "      <td>AM</td>\n",
              "      <td>ARM</td>\n",
              "      <td>Armenia</td>\n",
              "      <td>Republic of Armenia</td>\n",
              "      <td>Europe &amp; Central Asia</td>\n",
              "      <td>Lower middle income</td>\n",
              "    </tr>\n",
              "    <tr>\n",
              "      <th>9</th>\n",
              "      <td>AS</td>\n",
              "      <td>ASM</td>\n",
              "      <td>American Samoa</td>\n",
              "      <td>American Samoa</td>\n",
              "      <td>East Asia &amp; Pacific</td>\n",
              "      <td>Upper middle income</td>\n",
              "    </tr>\n",
              "    <tr>\n",
              "      <th>10</th>\n",
              "      <td>AG</td>\n",
              "      <td>ATG</td>\n",
              "      <td>Antigua and Barbuda</td>\n",
              "      <td>Antigua and Barbuda</td>\n",
              "      <td>Latin America &amp; Caribbean</td>\n",
              "      <td>High income</td>\n",
              "    </tr>\n",
              "    <tr>\n",
              "      <th>11</th>\n",
              "      <td>AU</td>\n",
              "      <td>AUS</td>\n",
              "      <td>Australia</td>\n",
              "      <td>Commonwealth of Australia</td>\n",
              "      <td>East Asia &amp; Pacific</td>\n",
              "      <td>High income</td>\n",
              "    </tr>\n",
              "    <tr>\n",
              "      <th>12</th>\n",
              "      <td>AT</td>\n",
              "      <td>AUT</td>\n",
              "      <td>Austria</td>\n",
              "      <td>Republic of Austria</td>\n",
              "      <td>Europe &amp; Central Asia</td>\n",
              "      <td>High income</td>\n",
              "    </tr>\n",
              "    <tr>\n",
              "      <th>13</th>\n",
              "      <td>AZ</td>\n",
              "      <td>AZE</td>\n",
              "      <td>Azerbaijan</td>\n",
              "      <td>Republic of Azerbaijan</td>\n",
              "      <td>Europe &amp; Central Asia</td>\n",
              "      <td>Upper middle income</td>\n",
              "    </tr>\n",
              "    <tr>\n",
              "      <th>14</th>\n",
              "      <td>BI</td>\n",
              "      <td>BDI</td>\n",
              "      <td>Burundi</td>\n",
              "      <td>Republic of Burundi</td>\n",
              "      <td>Sub-Saharan Africa</td>\n",
              "      <td>Low income</td>\n",
              "    </tr>\n",
              "    <tr>\n",
              "      <th>15</th>\n",
              "      <td>BE</td>\n",
              "      <td>BEL</td>\n",
              "      <td>Belgium</td>\n",
              "      <td>Kingdom of Belgium</td>\n",
              "      <td>Europe &amp; Central Asia</td>\n",
              "      <td>High income</td>\n",
              "    </tr>\n",
              "    <tr>\n",
              "      <th>16</th>\n",
              "      <td>BJ</td>\n",
              "      <td>BEN</td>\n",
              "      <td>Benin</td>\n",
              "      <td>Republic of Benin</td>\n",
              "      <td>Sub-Saharan Africa</td>\n",
              "      <td>Low income</td>\n",
              "    </tr>\n",
              "    <tr>\n",
              "      <th>17</th>\n",
              "      <td>BF</td>\n",
              "      <td>BFA</td>\n",
              "      <td>Burkina Faso</td>\n",
              "      <td>Burkina Faso</td>\n",
              "      <td>Sub-Saharan Africa</td>\n",
              "      <td>Low income</td>\n",
              "    </tr>\n",
              "    <tr>\n",
              "      <th>18</th>\n",
              "      <td>BD</td>\n",
              "      <td>BGD</td>\n",
              "      <td>Bangladesh</td>\n",
              "      <td>People's Republic of Bangladesh</td>\n",
              "      <td>South Asia</td>\n",
              "      <td>Lower middle income</td>\n",
              "    </tr>\n",
              "    <tr>\n",
              "      <th>19</th>\n",
              "      <td>BG</td>\n",
              "      <td>BGR</td>\n",
              "      <td>Bulgaria</td>\n",
              "      <td>Republic of Bulgaria</td>\n",
              "      <td>Europe &amp; Central Asia</td>\n",
              "      <td>Upper middle income</td>\n",
              "    </tr>\n",
              "  </tbody>\n",
              "</table>\n",
              "</div>"
            ],
            "text/plain": [
              "   country_iso_code  ...         income_group\n",
              "0                AW  ...          High income\n",
              "1                AF  ...           Low income\n",
              "2                AO  ...  Lower middle income\n",
              "3                AL  ...  Upper middle income\n",
              "4                AD  ...          High income\n",
              "5                1A  ...                 None\n",
              "6                AE  ...          High income\n",
              "7                AR  ...                 None\n",
              "8                AM  ...  Lower middle income\n",
              "9                AS  ...  Upper middle income\n",
              "10               AG  ...          High income\n",
              "11               AU  ...          High income\n",
              "12               AT  ...          High income\n",
              "13               AZ  ...  Upper middle income\n",
              "14               BI  ...           Low income\n",
              "15               BE  ...          High income\n",
              "16               BJ  ...           Low income\n",
              "17               BF  ...           Low income\n",
              "18               BD  ...  Lower middle income\n",
              "19               BG  ...  Upper middle income\n",
              "\n",
              "[20 rows x 6 columns]"
            ]
          },
          "metadata": {
            "tags": []
          }
        }
      ]
    },
    {
      "cell_type": "markdown",
      "metadata": {
        "id": "vRt_QNGWIjYk",
        "colab_type": "text"
      },
      "source": [
        "#### You can also do similar transformations in sql\n",
        "Let's rename the country_name and country_long_name columns"
      ]
    },
    {
      "cell_type": "code",
      "metadata": {
        "id": "YOWbEyseIjYl",
        "colab_type": "code",
        "colab": {}
      },
      "source": [
        "#Lets you create a view that you can use in SQL queries\n",
        "countryDim.createOrReplaceTempView(\"country\")"
      ],
      "execution_count": 0,
      "outputs": []
    },
    {
      "cell_type": "code",
      "metadata": {
        "id": "nRljyS69IjYn",
        "colab_type": "code",
        "outputId": "0fe04d8f-a844-4424-ec34-c55af86f8f62",
        "colab": {
          "base_uri": "https://localhost:8080/",
          "height": 669
        }
      },
      "source": [
        "transformQuery = \"\"\"\n",
        "select \n",
        "    country_iso_code,\n",
        "    wb_country_code,\n",
        "    country_name as name,\n",
        "    country_long_name as long_name,\n",
        "    region,\n",
        "    income_group\n",
        "from \n",
        "    country\n",
        "\"\"\"\n",
        "\n",
        "showDF(spark.sql(transformQuery))"
      ],
      "execution_count": 0,
      "outputs": [
        {
          "output_type": "display_data",
          "data": {
            "text/html": [
              "<div>\n",
              "<style scoped>\n",
              "    .dataframe tbody tr th:only-of-type {\n",
              "        vertical-align: middle;\n",
              "    }\n",
              "\n",
              "    .dataframe tbody tr th {\n",
              "        vertical-align: top;\n",
              "    }\n",
              "\n",
              "    .dataframe thead th {\n",
              "        text-align: right;\n",
              "    }\n",
              "</style>\n",
              "<table border=\"1\" class=\"dataframe\">\n",
              "  <thead>\n",
              "    <tr style=\"text-align: right;\">\n",
              "      <th></th>\n",
              "      <th>country_iso_code</th>\n",
              "      <th>wb_country_code</th>\n",
              "      <th>name</th>\n",
              "      <th>long_name</th>\n",
              "      <th>region</th>\n",
              "      <th>income_group</th>\n",
              "    </tr>\n",
              "  </thead>\n",
              "  <tbody>\n",
              "    <tr>\n",
              "      <th>0</th>\n",
              "      <td>AW</td>\n",
              "      <td>ABW</td>\n",
              "      <td>Aruba</td>\n",
              "      <td>Aruba</td>\n",
              "      <td>Latin America &amp; Caribbean</td>\n",
              "      <td>High income</td>\n",
              "    </tr>\n",
              "    <tr>\n",
              "      <th>1</th>\n",
              "      <td>AF</td>\n",
              "      <td>AFG</td>\n",
              "      <td>Afghanistan</td>\n",
              "      <td>Islamic State of Afghanistan</td>\n",
              "      <td>South Asia</td>\n",
              "      <td>Low income</td>\n",
              "    </tr>\n",
              "    <tr>\n",
              "      <th>2</th>\n",
              "      <td>AO</td>\n",
              "      <td>AGO</td>\n",
              "      <td>Angola</td>\n",
              "      <td>People's Republic of Angola</td>\n",
              "      <td>Sub-Saharan Africa</td>\n",
              "      <td>Lower middle income</td>\n",
              "    </tr>\n",
              "    <tr>\n",
              "      <th>3</th>\n",
              "      <td>AL</td>\n",
              "      <td>ALB</td>\n",
              "      <td>Albania</td>\n",
              "      <td>Republic of Albania</td>\n",
              "      <td>Europe &amp; Central Asia</td>\n",
              "      <td>Upper middle income</td>\n",
              "    </tr>\n",
              "    <tr>\n",
              "      <th>4</th>\n",
              "      <td>AD</td>\n",
              "      <td>AND</td>\n",
              "      <td>Andorra</td>\n",
              "      <td>Principality of Andorra</td>\n",
              "      <td>Europe &amp; Central Asia</td>\n",
              "      <td>High income</td>\n",
              "    </tr>\n",
              "    <tr>\n",
              "      <th>5</th>\n",
              "      <td>1A</td>\n",
              "      <td>ARB</td>\n",
              "      <td>Arab World</td>\n",
              "      <td>Arab World</td>\n",
              "      <td>None</td>\n",
              "      <td>None</td>\n",
              "    </tr>\n",
              "    <tr>\n",
              "      <th>6</th>\n",
              "      <td>AE</td>\n",
              "      <td>ARE</td>\n",
              "      <td>United Arab Emirates</td>\n",
              "      <td>United Arab Emirates</td>\n",
              "      <td>Middle East &amp; North Africa</td>\n",
              "      <td>High income</td>\n",
              "    </tr>\n",
              "    <tr>\n",
              "      <th>7</th>\n",
              "      <td>AR</td>\n",
              "      <td>ARG</td>\n",
              "      <td>Argentina</td>\n",
              "      <td>Argentine Republic</td>\n",
              "      <td>None</td>\n",
              "      <td>None</td>\n",
              "    </tr>\n",
              "    <tr>\n",
              "      <th>8</th>\n",
              "      <td>AM</td>\n",
              "      <td>ARM</td>\n",
              "      <td>Armenia</td>\n",
              "      <td>Republic of Armenia</td>\n",
              "      <td>Europe &amp; Central Asia</td>\n",
              "      <td>Lower middle income</td>\n",
              "    </tr>\n",
              "    <tr>\n",
              "      <th>9</th>\n",
              "      <td>AS</td>\n",
              "      <td>ASM</td>\n",
              "      <td>American Samoa</td>\n",
              "      <td>American Samoa</td>\n",
              "      <td>East Asia &amp; Pacific</td>\n",
              "      <td>Upper middle income</td>\n",
              "    </tr>\n",
              "    <tr>\n",
              "      <th>10</th>\n",
              "      <td>AG</td>\n",
              "      <td>ATG</td>\n",
              "      <td>Antigua and Barbuda</td>\n",
              "      <td>Antigua and Barbuda</td>\n",
              "      <td>Latin America &amp; Caribbean</td>\n",
              "      <td>High income</td>\n",
              "    </tr>\n",
              "    <tr>\n",
              "      <th>11</th>\n",
              "      <td>AU</td>\n",
              "      <td>AUS</td>\n",
              "      <td>Australia</td>\n",
              "      <td>Commonwealth of Australia</td>\n",
              "      <td>East Asia &amp; Pacific</td>\n",
              "      <td>High income</td>\n",
              "    </tr>\n",
              "    <tr>\n",
              "      <th>12</th>\n",
              "      <td>AT</td>\n",
              "      <td>AUT</td>\n",
              "      <td>Austria</td>\n",
              "      <td>Republic of Austria</td>\n",
              "      <td>Europe &amp; Central Asia</td>\n",
              "      <td>High income</td>\n",
              "    </tr>\n",
              "    <tr>\n",
              "      <th>13</th>\n",
              "      <td>AZ</td>\n",
              "      <td>AZE</td>\n",
              "      <td>Azerbaijan</td>\n",
              "      <td>Republic of Azerbaijan</td>\n",
              "      <td>Europe &amp; Central Asia</td>\n",
              "      <td>Upper middle income</td>\n",
              "    </tr>\n",
              "    <tr>\n",
              "      <th>14</th>\n",
              "      <td>BI</td>\n",
              "      <td>BDI</td>\n",
              "      <td>Burundi</td>\n",
              "      <td>Republic of Burundi</td>\n",
              "      <td>Sub-Saharan Africa</td>\n",
              "      <td>Low income</td>\n",
              "    </tr>\n",
              "    <tr>\n",
              "      <th>15</th>\n",
              "      <td>BE</td>\n",
              "      <td>BEL</td>\n",
              "      <td>Belgium</td>\n",
              "      <td>Kingdom of Belgium</td>\n",
              "      <td>Europe &amp; Central Asia</td>\n",
              "      <td>High income</td>\n",
              "    </tr>\n",
              "    <tr>\n",
              "      <th>16</th>\n",
              "      <td>BJ</td>\n",
              "      <td>BEN</td>\n",
              "      <td>Benin</td>\n",
              "      <td>Republic of Benin</td>\n",
              "      <td>Sub-Saharan Africa</td>\n",
              "      <td>Low income</td>\n",
              "    </tr>\n",
              "    <tr>\n",
              "      <th>17</th>\n",
              "      <td>BF</td>\n",
              "      <td>BFA</td>\n",
              "      <td>Burkina Faso</td>\n",
              "      <td>Burkina Faso</td>\n",
              "      <td>Sub-Saharan Africa</td>\n",
              "      <td>Low income</td>\n",
              "    </tr>\n",
              "    <tr>\n",
              "      <th>18</th>\n",
              "      <td>BD</td>\n",
              "      <td>BGD</td>\n",
              "      <td>Bangladesh</td>\n",
              "      <td>People's Republic of Bangladesh</td>\n",
              "      <td>South Asia</td>\n",
              "      <td>Lower middle income</td>\n",
              "    </tr>\n",
              "    <tr>\n",
              "      <th>19</th>\n",
              "      <td>BG</td>\n",
              "      <td>BGR</td>\n",
              "      <td>Bulgaria</td>\n",
              "      <td>Republic of Bulgaria</td>\n",
              "      <td>Europe &amp; Central Asia</td>\n",
              "      <td>Upper middle income</td>\n",
              "    </tr>\n",
              "  </tbody>\n",
              "</table>\n",
              "</div>"
            ],
            "text/plain": [
              "   country_iso_code  ...         income_group\n",
              "0                AW  ...          High income\n",
              "1                AF  ...           Low income\n",
              "2                AO  ...  Lower middle income\n",
              "3                AL  ...  Upper middle income\n",
              "4                AD  ...          High income\n",
              "5                1A  ...                 None\n",
              "6                AE  ...          High income\n",
              "7                AR  ...                 None\n",
              "8                AM  ...  Lower middle income\n",
              "9                AS  ...  Upper middle income\n",
              "10               AG  ...          High income\n",
              "11               AU  ...          High income\n",
              "12               AT  ...          High income\n",
              "13               AZ  ...  Upper middle income\n",
              "14               BI  ...           Low income\n",
              "15               BE  ...          High income\n",
              "16               BJ  ...           Low income\n",
              "17               BF  ...           Low income\n",
              "18               BD  ...  Lower middle income\n",
              "19               BG  ...  Upper middle income\n",
              "\n",
              "[20 rows x 6 columns]"
            ]
          },
          "metadata": {
            "tags": []
          }
        }
      ]
    },
    {
      "cell_type": "markdown",
      "metadata": {
        "id": "KJIUfejlIjYq",
        "colab_type": "text"
      },
      "source": [
        "### Step 5 - Check the data quality"
      ]
    },
    {
      "cell_type": "markdown",
      "metadata": {
        "id": "SUy71u0JIjYq",
        "colab_type": "text"
      },
      "source": [
        "##### Do all countries have 2 character country_iso_codes ?\n",
        "\n",
        "We will use some sql functions supported in PySpark for this exercise.  You can find a complete list of functions supported [here](http://spark.apache.org/docs/2.1.1/api/python/pyspark.sql.html#module-pyspark.sql.functions) ."
      ]
    },
    {
      "cell_type": "code",
      "metadata": {
        "id": "D4Miiw9WIjYr",
        "colab_type": "code",
        "outputId": "0c32860b-15d0-41e9-b92f-b70a72767677",
        "colab": {
          "base_uri": "https://localhost:8080/",
          "height": 80
        }
      },
      "source": [
        "countryCodeLength = countryDim.select(length(\"country_iso_code\").alias(\"column_length\")) \\\n",
        "    .groupBy(\"column_length\") \\\n",
        "    .agg(count(\"*\").alias(\"cnt\")) \\\n",
        "    .filter(\"cnt > 1\") \n",
        "showDF(countryCodeLength)"
      ],
      "execution_count": 0,
      "outputs": [
        {
          "output_type": "display_data",
          "data": {
            "text/html": [
              "<div>\n",
              "<style scoped>\n",
              "    .dataframe tbody tr th:only-of-type {\n",
              "        vertical-align: middle;\n",
              "    }\n",
              "\n",
              "    .dataframe tbody tr th {\n",
              "        vertical-align: top;\n",
              "    }\n",
              "\n",
              "    .dataframe thead th {\n",
              "        text-align: right;\n",
              "    }\n",
              "</style>\n",
              "<table border=\"1\" class=\"dataframe\">\n",
              "  <thead>\n",
              "    <tr style=\"text-align: right;\">\n",
              "      <th></th>\n",
              "      <th>column_length</th>\n",
              "      <th>cnt</th>\n",
              "    </tr>\n",
              "  </thead>\n",
              "  <tbody>\n",
              "    <tr>\n",
              "      <th>0</th>\n",
              "      <td>2</td>\n",
              "      <td>262</td>\n",
              "    </tr>\n",
              "  </tbody>\n",
              "</table>\n",
              "</div>"
            ],
            "text/plain": [
              "   column_length  cnt\n",
              "0              2  262"
            ]
          },
          "metadata": {
            "tags": []
          }
        }
      ]
    },
    {
      "cell_type": "code",
      "metadata": {
        "id": "gnYsFdHLH21V",
        "colab_type": "code",
        "outputId": "64a5af22-c946-4a00-d7ac-96ff03123e73",
        "colab": {
          "base_uri": "https://localhost:8080/",
          "height": 80
        }
      },
      "source": [
        "#You can also do this in SQL\n",
        "countryCodeLengthQuery = \"\"\"\n",
        "select \n",
        "    length(country_iso_code) as column_length,\n",
        "    count(1) as cnt\n",
        "from \n",
        "    country\n",
        "group by \n",
        "    length(country_iso_code)\n",
        "having \n",
        "    count(1) > 1\n",
        "\"\"\"\n",
        "\n",
        "showDF(spark.sql(countryCodeLengthQuery))"
      ],
      "execution_count": 0,
      "outputs": [
        {
          "output_type": "display_data",
          "data": {
            "text/html": [
              "<div>\n",
              "<style scoped>\n",
              "    .dataframe tbody tr th:only-of-type {\n",
              "        vertical-align: middle;\n",
              "    }\n",
              "\n",
              "    .dataframe tbody tr th {\n",
              "        vertical-align: top;\n",
              "    }\n",
              "\n",
              "    .dataframe thead th {\n",
              "        text-align: right;\n",
              "    }\n",
              "</style>\n",
              "<table border=\"1\" class=\"dataframe\">\n",
              "  <thead>\n",
              "    <tr style=\"text-align: right;\">\n",
              "      <th></th>\n",
              "      <th>column_length</th>\n",
              "      <th>cnt</th>\n",
              "    </tr>\n",
              "  </thead>\n",
              "  <tbody>\n",
              "    <tr>\n",
              "      <th>0</th>\n",
              "      <td>2</td>\n",
              "      <td>262</td>\n",
              "    </tr>\n",
              "  </tbody>\n",
              "</table>\n",
              "</div>"
            ],
            "text/plain": [
              "   column_length  cnt\n",
              "0              2  262"
            ]
          },
          "metadata": {
            "tags": []
          }
        }
      ]
    },
    {
      "cell_type": "markdown",
      "metadata": {
        "id": "jixd11XnIjYw",
        "colab_type": "text"
      },
      "source": [
        "## Quick Exercise\n",
        "Do you notice a difference in the counts returned by the Quality check for the 2-character country_iso_code vs the original row count for the WDICountry.csv ?"
      ]
    },
    {
      "cell_type": "code",
      "metadata": {
        "id": "1XCL3uV5IjYx",
        "colab_type": "code",
        "colab": {}
      },
      "source": [
        "# Paste your solution here\n"
      ],
      "execution_count": 0,
      "outputs": []
    },
    {
      "cell_type": "markdown",
      "metadata": {
        "id": "MhWoRyS4IjYz",
        "colab_type": "text"
      },
      "source": [
        "##### Do we have duplicate records for any of the key columns ?"
      ]
    },
    {
      "cell_type": "code",
      "metadata": {
        "id": "p42YbWUdIjY0",
        "colab_type": "code",
        "outputId": "25801110-6d8f-4f61-c387-1ac812ed7a82",
        "colab": {
          "base_uri": "https://localhost:8080/",
          "height": 113
        }
      },
      "source": [
        "showDF(countryDim.groupBy(\"country_iso_code\").agg(count(\"*\").alias(\"cnt\")).filter(\"cnt > 1\"))\n",
        "\n",
        "showDF(countryDim.groupBy(\"wb_country_code\").agg(count(\"*\").alias(\"cnt\")).filter(\"cnt > 1\"))\n",
        "\n",
        "showDF(countryDim.groupBy(\"country_name\").agg(count(\"*\").alias(\"cnt\")).filter(\"cnt > 1\"))"
      ],
      "execution_count": 0,
      "outputs": [
        {
          "output_type": "display_data",
          "data": {
            "text/html": [
              "<div>\n",
              "<style scoped>\n",
              "    .dataframe tbody tr th:only-of-type {\n",
              "        vertical-align: middle;\n",
              "    }\n",
              "\n",
              "    .dataframe tbody tr th {\n",
              "        vertical-align: top;\n",
              "    }\n",
              "\n",
              "    .dataframe thead th {\n",
              "        text-align: right;\n",
              "    }\n",
              "</style>\n",
              "<table border=\"1\" class=\"dataframe\">\n",
              "  <thead>\n",
              "    <tr style=\"text-align: right;\">\n",
              "      <th></th>\n",
              "      <th>country_iso_code</th>\n",
              "      <th>cnt</th>\n",
              "    </tr>\n",
              "  </thead>\n",
              "  <tbody>\n",
              "  </tbody>\n",
              "</table>\n",
              "</div>"
            ],
            "text/plain": [
              "Empty DataFrame\n",
              "Columns: [country_iso_code, cnt]\n",
              "Index: []"
            ]
          },
          "metadata": {
            "tags": []
          }
        },
        {
          "output_type": "display_data",
          "data": {
            "text/html": [
              "<div>\n",
              "<style scoped>\n",
              "    .dataframe tbody tr th:only-of-type {\n",
              "        vertical-align: middle;\n",
              "    }\n",
              "\n",
              "    .dataframe tbody tr th {\n",
              "        vertical-align: top;\n",
              "    }\n",
              "\n",
              "    .dataframe thead th {\n",
              "        text-align: right;\n",
              "    }\n",
              "</style>\n",
              "<table border=\"1\" class=\"dataframe\">\n",
              "  <thead>\n",
              "    <tr style=\"text-align: right;\">\n",
              "      <th></th>\n",
              "      <th>wb_country_code</th>\n",
              "      <th>cnt</th>\n",
              "    </tr>\n",
              "  </thead>\n",
              "  <tbody>\n",
              "  </tbody>\n",
              "</table>\n",
              "</div>"
            ],
            "text/plain": [
              "Empty DataFrame\n",
              "Columns: [wb_country_code, cnt]\n",
              "Index: []"
            ]
          },
          "metadata": {
            "tags": []
          }
        },
        {
          "output_type": "display_data",
          "data": {
            "text/html": [
              "<div>\n",
              "<style scoped>\n",
              "    .dataframe tbody tr th:only-of-type {\n",
              "        vertical-align: middle;\n",
              "    }\n",
              "\n",
              "    .dataframe tbody tr th {\n",
              "        vertical-align: top;\n",
              "    }\n",
              "\n",
              "    .dataframe thead th {\n",
              "        text-align: right;\n",
              "    }\n",
              "</style>\n",
              "<table border=\"1\" class=\"dataframe\">\n",
              "  <thead>\n",
              "    <tr style=\"text-align: right;\">\n",
              "      <th></th>\n",
              "      <th>country_name</th>\n",
              "      <th>cnt</th>\n",
              "    </tr>\n",
              "  </thead>\n",
              "  <tbody>\n",
              "  </tbody>\n",
              "</table>\n",
              "</div>"
            ],
            "text/plain": [
              "Empty DataFrame\n",
              "Columns: [country_name, cnt]\n",
              "Index: []"
            ]
          },
          "metadata": {
            "tags": []
          }
        }
      ]
    },
    {
      "cell_type": "markdown",
      "metadata": {
        "id": "Ghx4fEMtIjY3",
        "colab_type": "text"
      },
      "source": [
        "### Step 6 - Fix any issues with data quality"
      ]
    },
    {
      "cell_type": "code",
      "metadata": {
        "id": "OcUvWoWPIjY4",
        "colab_type": "code",
        "outputId": "50205fa0-27bd-429a-c66f-0174fa55c1e1",
        "colab": {
          "base_uri": "https://localhost:8080/",
          "height": 669
        }
      },
      "source": [
        "countryDimFinal = countryDim.filter(\"country_iso_code is not null\")\n",
        "\n",
        "showDF(countryDimFinal)"
      ],
      "execution_count": 0,
      "outputs": [
        {
          "output_type": "display_data",
          "data": {
            "text/html": [
              "<div>\n",
              "<style scoped>\n",
              "    .dataframe tbody tr th:only-of-type {\n",
              "        vertical-align: middle;\n",
              "    }\n",
              "\n",
              "    .dataframe tbody tr th {\n",
              "        vertical-align: top;\n",
              "    }\n",
              "\n",
              "    .dataframe thead th {\n",
              "        text-align: right;\n",
              "    }\n",
              "</style>\n",
              "<table border=\"1\" class=\"dataframe\">\n",
              "  <thead>\n",
              "    <tr style=\"text-align: right;\">\n",
              "      <th></th>\n",
              "      <th>country_iso_code</th>\n",
              "      <th>wb_country_code</th>\n",
              "      <th>country_name</th>\n",
              "      <th>country_long_name</th>\n",
              "      <th>region</th>\n",
              "      <th>income_group</th>\n",
              "    </tr>\n",
              "  </thead>\n",
              "  <tbody>\n",
              "    <tr>\n",
              "      <th>0</th>\n",
              "      <td>AW</td>\n",
              "      <td>ABW</td>\n",
              "      <td>Aruba</td>\n",
              "      <td>Aruba</td>\n",
              "      <td>Latin America &amp; Caribbean</td>\n",
              "      <td>High income</td>\n",
              "    </tr>\n",
              "    <tr>\n",
              "      <th>1</th>\n",
              "      <td>AF</td>\n",
              "      <td>AFG</td>\n",
              "      <td>Afghanistan</td>\n",
              "      <td>Islamic State of Afghanistan</td>\n",
              "      <td>South Asia</td>\n",
              "      <td>Low income</td>\n",
              "    </tr>\n",
              "    <tr>\n",
              "      <th>2</th>\n",
              "      <td>AO</td>\n",
              "      <td>AGO</td>\n",
              "      <td>Angola</td>\n",
              "      <td>People's Republic of Angola</td>\n",
              "      <td>Sub-Saharan Africa</td>\n",
              "      <td>Lower middle income</td>\n",
              "    </tr>\n",
              "    <tr>\n",
              "      <th>3</th>\n",
              "      <td>AL</td>\n",
              "      <td>ALB</td>\n",
              "      <td>Albania</td>\n",
              "      <td>Republic of Albania</td>\n",
              "      <td>Europe &amp; Central Asia</td>\n",
              "      <td>Upper middle income</td>\n",
              "    </tr>\n",
              "    <tr>\n",
              "      <th>4</th>\n",
              "      <td>AD</td>\n",
              "      <td>AND</td>\n",
              "      <td>Andorra</td>\n",
              "      <td>Principality of Andorra</td>\n",
              "      <td>Europe &amp; Central Asia</td>\n",
              "      <td>High income</td>\n",
              "    </tr>\n",
              "    <tr>\n",
              "      <th>5</th>\n",
              "      <td>1A</td>\n",
              "      <td>ARB</td>\n",
              "      <td>Arab World</td>\n",
              "      <td>Arab World</td>\n",
              "      <td>None</td>\n",
              "      <td>None</td>\n",
              "    </tr>\n",
              "    <tr>\n",
              "      <th>6</th>\n",
              "      <td>AE</td>\n",
              "      <td>ARE</td>\n",
              "      <td>United Arab Emirates</td>\n",
              "      <td>United Arab Emirates</td>\n",
              "      <td>Middle East &amp; North Africa</td>\n",
              "      <td>High income</td>\n",
              "    </tr>\n",
              "    <tr>\n",
              "      <th>7</th>\n",
              "      <td>AR</td>\n",
              "      <td>ARG</td>\n",
              "      <td>Argentina</td>\n",
              "      <td>Argentine Republic</td>\n",
              "      <td>None</td>\n",
              "      <td>None</td>\n",
              "    </tr>\n",
              "    <tr>\n",
              "      <th>8</th>\n",
              "      <td>AM</td>\n",
              "      <td>ARM</td>\n",
              "      <td>Armenia</td>\n",
              "      <td>Republic of Armenia</td>\n",
              "      <td>Europe &amp; Central Asia</td>\n",
              "      <td>Lower middle income</td>\n",
              "    </tr>\n",
              "    <tr>\n",
              "      <th>9</th>\n",
              "      <td>AS</td>\n",
              "      <td>ASM</td>\n",
              "      <td>American Samoa</td>\n",
              "      <td>American Samoa</td>\n",
              "      <td>East Asia &amp; Pacific</td>\n",
              "      <td>Upper middle income</td>\n",
              "    </tr>\n",
              "    <tr>\n",
              "      <th>10</th>\n",
              "      <td>AG</td>\n",
              "      <td>ATG</td>\n",
              "      <td>Antigua and Barbuda</td>\n",
              "      <td>Antigua and Barbuda</td>\n",
              "      <td>Latin America &amp; Caribbean</td>\n",
              "      <td>High income</td>\n",
              "    </tr>\n",
              "    <tr>\n",
              "      <th>11</th>\n",
              "      <td>AU</td>\n",
              "      <td>AUS</td>\n",
              "      <td>Australia</td>\n",
              "      <td>Commonwealth of Australia</td>\n",
              "      <td>East Asia &amp; Pacific</td>\n",
              "      <td>High income</td>\n",
              "    </tr>\n",
              "    <tr>\n",
              "      <th>12</th>\n",
              "      <td>AT</td>\n",
              "      <td>AUT</td>\n",
              "      <td>Austria</td>\n",
              "      <td>Republic of Austria</td>\n",
              "      <td>Europe &amp; Central Asia</td>\n",
              "      <td>High income</td>\n",
              "    </tr>\n",
              "    <tr>\n",
              "      <th>13</th>\n",
              "      <td>AZ</td>\n",
              "      <td>AZE</td>\n",
              "      <td>Azerbaijan</td>\n",
              "      <td>Republic of Azerbaijan</td>\n",
              "      <td>Europe &amp; Central Asia</td>\n",
              "      <td>Upper middle income</td>\n",
              "    </tr>\n",
              "    <tr>\n",
              "      <th>14</th>\n",
              "      <td>BI</td>\n",
              "      <td>BDI</td>\n",
              "      <td>Burundi</td>\n",
              "      <td>Republic of Burundi</td>\n",
              "      <td>Sub-Saharan Africa</td>\n",
              "      <td>Low income</td>\n",
              "    </tr>\n",
              "    <tr>\n",
              "      <th>15</th>\n",
              "      <td>BE</td>\n",
              "      <td>BEL</td>\n",
              "      <td>Belgium</td>\n",
              "      <td>Kingdom of Belgium</td>\n",
              "      <td>Europe &amp; Central Asia</td>\n",
              "      <td>High income</td>\n",
              "    </tr>\n",
              "    <tr>\n",
              "      <th>16</th>\n",
              "      <td>BJ</td>\n",
              "      <td>BEN</td>\n",
              "      <td>Benin</td>\n",
              "      <td>Republic of Benin</td>\n",
              "      <td>Sub-Saharan Africa</td>\n",
              "      <td>Low income</td>\n",
              "    </tr>\n",
              "    <tr>\n",
              "      <th>17</th>\n",
              "      <td>BF</td>\n",
              "      <td>BFA</td>\n",
              "      <td>Burkina Faso</td>\n",
              "      <td>Burkina Faso</td>\n",
              "      <td>Sub-Saharan Africa</td>\n",
              "      <td>Low income</td>\n",
              "    </tr>\n",
              "    <tr>\n",
              "      <th>18</th>\n",
              "      <td>BD</td>\n",
              "      <td>BGD</td>\n",
              "      <td>Bangladesh</td>\n",
              "      <td>People's Republic of Bangladesh</td>\n",
              "      <td>South Asia</td>\n",
              "      <td>Lower middle income</td>\n",
              "    </tr>\n",
              "    <tr>\n",
              "      <th>19</th>\n",
              "      <td>BG</td>\n",
              "      <td>BGR</td>\n",
              "      <td>Bulgaria</td>\n",
              "      <td>Republic of Bulgaria</td>\n",
              "      <td>Europe &amp; Central Asia</td>\n",
              "      <td>Upper middle income</td>\n",
              "    </tr>\n",
              "  </tbody>\n",
              "</table>\n",
              "</div>"
            ],
            "text/plain": [
              "   country_iso_code  ...         income_group\n",
              "0                AW  ...          High income\n",
              "1                AF  ...           Low income\n",
              "2                AO  ...  Lower middle income\n",
              "3                AL  ...  Upper middle income\n",
              "4                AD  ...          High income\n",
              "5                1A  ...                 None\n",
              "6                AE  ...          High income\n",
              "7                AR  ...                 None\n",
              "8                AM  ...  Lower middle income\n",
              "9                AS  ...  Upper middle income\n",
              "10               AG  ...          High income\n",
              "11               AU  ...          High income\n",
              "12               AT  ...          High income\n",
              "13               AZ  ...  Upper middle income\n",
              "14               BI  ...           Low income\n",
              "15               BE  ...          High income\n",
              "16               BJ  ...           Low income\n",
              "17               BF  ...           Low income\n",
              "18               BD  ...  Lower middle income\n",
              "19               BG  ...  Upper middle income\n",
              "\n",
              "[20 rows x 6 columns]"
            ]
          },
          "metadata": {
            "tags": []
          }
        }
      ]
    },
    {
      "cell_type": "code",
      "metadata": {
        "id": "nLleUZncIjY7",
        "colab_type": "code",
        "outputId": "7dc6a69c-895d-4d64-b1cb-6f14e5d7bdc0",
        "colab": {
          "base_uri": "https://localhost:8080/",
          "height": 34
        }
      },
      "source": [
        "countryDimFinal.count()"
      ],
      "execution_count": 0,
      "outputs": [
        {
          "output_type": "execute_result",
          "data": {
            "text/plain": [
              "262"
            ]
          },
          "metadata": {
            "tags": []
          },
          "execution_count": 29
        }
      ]
    },
    {
      "cell_type": "markdown",
      "metadata": {
        "id": "GPK1UuTRIjZA",
        "colab_type": "text"
      },
      "source": [
        "### Step 7 - Write the data to the destination"
      ]
    },
    {
      "cell_type": "code",
      "metadata": {
        "id": "1kW7ZUkvIjZB",
        "colab_type": "code",
        "colab": {}
      },
      "source": [
        "# Here we are going to write the country dimension to an output csv file\n",
        "countryDimFinal \\\n",
        "    .coalesce(1) \\\n",
        "    .write.csv('CountryDim', mode='overwrite', header='true')"
      ],
      "execution_count": 0,
      "outputs": []
    },
    {
      "cell_type": "markdown",
      "metadata": {
        "id": "796MFF7KIjZE",
        "colab_type": "text"
      },
      "source": [
        "### Step 8 - Check if the output was written out as expected"
      ]
    },
    {
      "cell_type": "code",
      "metadata": {
        "id": "TvLN_Iz6IjZF",
        "colab_type": "code",
        "outputId": "31434739-1bc6-4d26-f432-1e59ded1c43a",
        "colab": {
          "base_uri": "https://localhost:8080/",
          "height": 187
        }
      },
      "source": [
        "!cat CountryDim/*csv | head"
      ],
      "execution_count": 0,
      "outputs": [
        {
          "output_type": "stream",
          "text": [
            "country_iso_code,wb_country_code,country_name,country_long_name,region,income_group\n",
            "AW,ABW,Aruba,Aruba,Latin America & Caribbean,High income\n",
            "AF,AFG,Afghanistan,Islamic State of Afghanistan,South Asia,Low income\n",
            "AO,AGO,Angola,People's Republic of Angola,Sub-Saharan Africa,Lower middle income\n",
            "AL,ALB,Albania,Republic of Albania,Europe & Central Asia,Upper middle income\n",
            "AD,AND,Andorra,Principality of Andorra,Europe & Central Asia,High income\n",
            "1A,ARB,Arab World,Arab World,\"\",\"\"\n",
            "AE,ARE,United Arab Emirates,United Arab Emirates,Middle East & North Africa,High income\n",
            "AR,ARG,Argentina,Argentine Republic,\"\",\"\"\n",
            "AM,ARM,Armenia,Republic of Armenia,Europe & Central Asia,Lower middle income\n"
          ],
          "name": "stdout"
        }
      ]
    },
    {
      "cell_type": "markdown",
      "metadata": {
        "id": "MD2HRXFtIjZJ",
        "colab_type": "text"
      },
      "source": [
        "## Exercise\n",
        "\n",
        "#### Transform the Series Dataset and make it available in the dataframe seriesDim\n",
        "- Filter only for series that have Annual periodicity\n",
        "- Get the following columns and rename the selected columns to prepare further processing  \n",
        "\n",
        "| Name in CSV | Column Name |\n",
        "| ------------- |:-------------:|\n",
        "| Series Code | indicator_code |\n",
        "| Indicator Name | indicator_name |\n",
        "| Periodicity | periodicity |\n",
        "| Aggregation Method | aggregation_method |\n",
        "\n",
        "\n",
        "##### How many series do you end up with ?"
      ]
    },
    {
      "cell_type": "code",
      "metadata": {
        "id": "uGF8kWK7IjZK",
        "colab_type": "code",
        "colab": {}
      },
      "source": [
        "#Your solution here\n",
        "#seriesDim = ??? "
      ],
      "execution_count": 0,
      "outputs": []
    },
    {
      "cell_type": "markdown",
      "metadata": {
        "id": "4YzKzO_2IjZN",
        "colab_type": "text"
      },
      "source": [
        "#### What data quality checks were you able to perform ?"
      ]
    },
    {
      "cell_type": "markdown",
      "metadata": {
        "id": "wi_dpVX-IjZO",
        "colab_type": "text"
      },
      "source": [
        "- Are there any duplicate codes ?\n",
        "- Are all indicator_codes following the same pattern ?\n",
        "- Is the case on columns consistent ? "
      ]
    },
    {
      "cell_type": "code",
      "metadata": {
        "id": "wosvbqLAIjZO",
        "colab_type": "code",
        "colab": {}
      },
      "source": [
        "#Your solution here\n"
      ],
      "execution_count": 0,
      "outputs": []
    },
    {
      "cell_type": "markdown",
      "metadata": {
        "id": "r6bJ6HpTIjZR",
        "colab_type": "text"
      },
      "source": [
        "### Complex Transformations\n",
        "##### Problem Statement\n",
        "We want to measure the cellular and broadband penetration in comparison to the population demographics for every country.  It'll also be helpful to get some insights on annual global aggregates."
      ]
    },
    {
      "cell_type": "markdown",
      "metadata": {
        "id": "u9sDLL_dIjZR",
        "colab_type": "text"
      },
      "source": [
        "###### Our dataset has multiple types of metrics.  The only ones that we care about are simple aggregates."
      ]
    },
    {
      "cell_type": "code",
      "metadata": {
        "id": "sJBILvmsIjZS",
        "colab_type": "code",
        "outputId": "7a5e118c-b512-40f1-91d8-237ad0a4fe50",
        "colab": {
          "base_uri": "https://localhost:8080/",
          "height": 218
        }
      },
      "source": [
        "simpleAggIndicators = seriesDim \\\n",
        "    .filter(\"lower(aggregation_method) = 'sum'\") \\\n",
        "    .select(\"indicator_code\", \"indicator_name\") \\\n",
        "    .orderBy(\"indicator_code\")\n",
        "\n",
        "showDF(simpleAggIndicators, limitRows = 500, truncate = False)"
      ],
      "execution_count": 0,
      "outputs": [
        {
          "output_type": "error",
          "ename": "NameError",
          "evalue": "ignored",
          "traceback": [
            "\u001b[0;31m---------------------------------------------------------------------------\u001b[0m",
            "\u001b[0;31mNameError\u001b[0m                                 Traceback (most recent call last)",
            "\u001b[0;32m<ipython-input-33-c6fcb603872e>\u001b[0m in \u001b[0;36m<module>\u001b[0;34m()\u001b[0m\n\u001b[0;32m----> 1\u001b[0;31m \u001b[0msimpleAggIndicators\u001b[0m \u001b[0;34m=\u001b[0m \u001b[0mseriesDim\u001b[0m     \u001b[0;34m.\u001b[0m\u001b[0mfilter\u001b[0m\u001b[0;34m(\u001b[0m\u001b[0;34m\"lower(aggregation_method) = 'sum'\"\u001b[0m\u001b[0;34m)\u001b[0m     \u001b[0;34m.\u001b[0m\u001b[0mselect\u001b[0m\u001b[0;34m(\u001b[0m\u001b[0;34m\"indicator_code\"\u001b[0m\u001b[0;34m,\u001b[0m \u001b[0;34m\"indicator_name\"\u001b[0m\u001b[0;34m)\u001b[0m     \u001b[0;34m.\u001b[0m\u001b[0morderBy\u001b[0m\u001b[0;34m(\u001b[0m\u001b[0;34m\"indicator_code\"\u001b[0m\u001b[0;34m)\u001b[0m\u001b[0;34m\u001b[0m\u001b[0;34m\u001b[0m\u001b[0m\n\u001b[0m\u001b[1;32m      2\u001b[0m \u001b[0;34m\u001b[0m\u001b[0m\n\u001b[1;32m      3\u001b[0m \u001b[0mshowDF\u001b[0m\u001b[0;34m(\u001b[0m\u001b[0msimpleAggIndicators\u001b[0m\u001b[0;34m,\u001b[0m \u001b[0mlimitRows\u001b[0m \u001b[0;34m=\u001b[0m \u001b[0;36m500\u001b[0m\u001b[0;34m,\u001b[0m \u001b[0mtruncate\u001b[0m \u001b[0;34m=\u001b[0m \u001b[0;32mFalse\u001b[0m\u001b[0;34m)\u001b[0m\u001b[0;34m\u001b[0m\u001b[0;34m\u001b[0m\u001b[0m\n",
            "\u001b[0;31mNameError\u001b[0m: name 'seriesDim' is not defined"
          ]
        }
      ]
    },
    {
      "cell_type": "markdown",
      "metadata": {
        "id": "ZTZ9gLOnIjZW",
        "colab_type": "text"
      },
      "source": [
        "##### Only keep the indicators that are relevant to requirements i.e. Population indicators and Cellular and Broadband penetration"
      ]
    },
    {
      "cell_type": "code",
      "metadata": {
        "id": "43sPWErEIjZX",
        "colab_type": "code",
        "colab": {}
      },
      "source": [
        "targetIndicators = simpleAggIndicators \\\n",
        "    .filter(\"lower(indicator_name) like '%population%total%' \" + \n",
        "            \" or lower(indicator_name) like '%cellular%' \" +\n",
        "            \" or lower(indicator_name) like '%broadband%'\") \\\n",
        "    .filter(\"lower(indicator_name) not like '%refugee%'\")\n",
        "\n",
        "showDF(targetIndicators)"
      ],
      "execution_count": 0,
      "outputs": []
    },
    {
      "cell_type": "markdown",
      "metadata": {
        "id": "hCjhFgu1IjZZ",
        "colab_type": "text"
      },
      "source": [
        "##### Now that we have identified the various indicators of interest, we can continue with getting the metrics for these indicators"
      ]
    },
    {
      "cell_type": "code",
      "metadata": {
        "id": "y4S8jctuIjZa",
        "colab_type": "code",
        "colab": {}
      },
      "source": [
        "# Keep the columns that are relevant for further transformations\n",
        "indicatorsData = indicators \\\n",
        "    .withColumnRenamed(\"Indicator Code\", \"indicator_code\") \\\n",
        "    .withColumnRenamed(\"Country Code\", \"wb_country_code\") \\\n",
        "    .drop(\"Indicator Name\") \\\n",
        "    .drop(\"Country Name\") \\\n",
        "    .drop(\"_c62\")"
      ],
      "execution_count": 0,
      "outputs": []
    },
    {
      "cell_type": "code",
      "metadata": {
        "id": "sKz4d-_FIjZc",
        "colab_type": "code",
        "colab": {}
      },
      "source": [
        "#Keep only the indicators that we care about\n",
        "targetIndicatorsData = indicatorsData.join(targetIndicators \\\n",
        "                                         , indicatorsData.indicator_code == targetIndicators.indicator_code) \\\n",
        "    .drop(targetIndicators.indicator_code)"
      ],
      "execution_count": 0,
      "outputs": []
    },
    {
      "cell_type": "code",
      "metadata": {
        "id": "NmKKBkqpIjZf",
        "colab_type": "code",
        "colab": {}
      },
      "source": [
        "showDF(targetIndicatorsData)"
      ],
      "execution_count": 0,
      "outputs": []
    },
    {
      "cell_type": "markdown",
      "metadata": {
        "id": "b9VAcFxKIjZh",
        "colab_type": "text"
      },
      "source": [
        "#### The output that we see currently isn't the most ideal from a modeling perspective.  \n",
        "A well-modeled dataset should allow for data to be easily augmented.  E.g. instead of having a column for each year (wide format), we would prefer a row for each year (long format). This allows us to easily add more rows in the future. This wide-to-long transformation is also a common preprocessing step when building models.\n",
        "\n",
        "We want something similar to the output of the following code block:"
      ]
    },
    {
      "cell_type": "code",
      "metadata": {
        "id": "BtaSzB_xIjZi",
        "colab_type": "code",
        "colab": {}
      },
      "source": [
        "indicatorsSample = targetIndicatorsData \\\n",
        "    .select(col(\"wb_country_code\"),\n",
        "            col(\"indicator_code\"),\n",
        "            lit(\"1960\").alias(\"year\"),\n",
        "            col(\"1960\").alias(\"indicator_value\")) \\\n",
        "    .filter(\"indicator_value >= 0.0\")\n",
        "\n",
        "showDF(indicatorsSample)"
      ],
      "execution_count": 0,
      "outputs": []
    },
    {
      "cell_type": "markdown",
      "metadata": {
        "id": "o1tA8sIEIjZj",
        "colab_type": "text"
      },
      "source": [
        "##### Let us start by getting the list of years that we have metrics for"
      ]
    },
    {
      "cell_type": "code",
      "metadata": {
        "id": "t3BIae1tIjZk",
        "colab_type": "code",
        "colab": {}
      },
      "source": [
        "yearList = [x for x in targetIndicatorsData.schema.names \\\n",
        "             if x != 'wb_country_code' and x != 'indicator_code' and x != 'indicator_name'] \n",
        "\n",
        "print(yearList)"
      ],
      "execution_count": 0,
      "outputs": []
    },
    {
      "cell_type": "code",
      "metadata": {
        "id": "XlRVGcDiIjZm",
        "colab_type": "code",
        "colab": {}
      },
      "source": [
        "#Cheat for creating a dataframe with no rows \n",
        "indicatorsDF = indicatorsSample.filter('1 = 0')\n",
        "\n",
        "#Iterate through the list of years and store the rows in the DataFrame we created above\n",
        "for indicatorYear in yearList:\n",
        "    print(\"Processing indicators for \" + indicatorYear)\n",
        "    yearIndicatorDF = targetIndicatorsData \\\n",
        "        .select(col(\"wb_country_code\")\n",
        "                , col(\"indicator_code\")\n",
        "                , lit(indicatorYear).alias(\"year\")\n",
        "                , col(indicatorYear).alias(\"indicator_value\")) \\\n",
        "        .filter(\"indicator_value >= 0\")\n",
        "    indicatorsDF = indicatorsDF.union(yearIndicatorDF)    "
      ],
      "execution_count": 0,
      "outputs": []
    },
    {
      "cell_type": "markdown",
      "metadata": {
        "id": "-nm1dwDsIjZo",
        "colab_type": "text"
      },
      "source": [
        "#### Let's cache the dataset to iterate over it"
      ]
    },
    {
      "cell_type": "code",
      "metadata": {
        "id": "YN5nTVD7IjZo",
        "colab_type": "code",
        "colab": {}
      },
      "source": [
        "# You can iterate over a dataframe that is already computed by caching it once and using it repeatedly\n",
        "indicatorsDF.cache()\n",
        "\n",
        "#Force the data to be cached\n",
        "indicatorsDF.count()"
      ],
      "execution_count": 0,
      "outputs": []
    },
    {
      "cell_type": "code",
      "metadata": {
        "id": "CMPo-kHuIjZq",
        "colab_type": "code",
        "colab": {}
      },
      "source": [
        "#Check the indicator counts per year\n",
        "#showDF(indicatorsDF.groupBy('year').agg(count(\"*\")).orderBy(\"year\"), limitRows=100)"
      ],
      "execution_count": 0,
      "outputs": []
    },
    {
      "cell_type": "markdown",
      "metadata": {
        "id": "-O4ophJQIjZs",
        "colab_type": "text"
      },
      "source": [
        "#### Getting yearly indicator totals"
      ]
    },
    {
      "cell_type": "code",
      "metadata": {
        "id": "mwSQiC6uIjZs",
        "colab_type": "code",
        "colab": {}
      },
      "source": [
        "yearPivot = indicatorsDF.groupBy('year').pivot('indicator_code').sum('indicator_value') "
      ],
      "execution_count": 0,
      "outputs": []
    },
    {
      "cell_type": "code",
      "metadata": {
        "id": "SFfMXeHNIjZw",
        "colab_type": "code",
        "colab": {}
      },
      "source": [
        "showDF(yearPivot.orderBy('year'))"
      ],
      "execution_count": 0,
      "outputs": []
    },
    {
      "cell_type": "code",
      "metadata": {
        "id": "4AwloB0rIjZy",
        "colab_type": "code",
        "colab": {}
      },
      "source": [
        "yearPivot.printSchema()"
      ],
      "execution_count": 0,
      "outputs": []
    },
    {
      "cell_type": "code",
      "metadata": {
        "id": "WtZhc_otIjZ0",
        "colab_type": "code",
        "colab": {}
      },
      "source": [
        "yearPivotDF = yearPivot.orderBy('year') \\\n",
        "    .withColumnRenamed('IT.CEL.SETS', 'cellular_subscriptions') \\\n",
        "    .withColumnRenamed('IT.NET.BBND', 'broadband_subscriptions') \\\n",
        "    .withColumnRenamed('SP.POP.0014.TO', 'population_age_0_to_14') \\\n",
        "    .withColumnRenamed('SP.POP.1564.TO', 'population_age_15_64') \\\n",
        "    .withColumnRenamed('SP.POP.65UP.TO', 'population_age_65_and_above') \\\n",
        "    .withColumnRenamed('SP.POP.TOTL', 'population')"
      ],
      "execution_count": 0,
      "outputs": []
    },
    {
      "cell_type": "markdown",
      "metadata": {
        "id": "cbk6A79CIjZ2",
        "colab_type": "text"
      },
      "source": [
        "#### Data Quality Checkpoint "
      ]
    },
    {
      "cell_type": "code",
      "metadata": {
        "id": "AWwvfeqQIjZ3",
        "colab_type": "code",
        "colab": {}
      },
      "source": [
        "# You can iterate over a dataframe that is already computed by caching it onces and using it repeatedly\n",
        "yearPivotDF.cache()\n",
        "\n",
        "#Forces the data to be cached\n",
        "yearPivotDF.count()"
      ],
      "execution_count": 0,
      "outputs": []
    },
    {
      "cell_type": "code",
      "metadata": {
        "id": "S22AM57tIjZ5",
        "colab_type": "code",
        "colab": {}
      },
      "source": [
        "yearPivotDF.filter('population_age_0_to_14 < 0').count()"
      ],
      "execution_count": 0,
      "outputs": []
    },
    {
      "cell_type": "code",
      "metadata": {
        "id": "fn0GqNRBIjZ8",
        "colab_type": "code",
        "colab": {}
      },
      "source": [
        "yearPivotDF.filter('population_age_15_64 < 0').count()"
      ],
      "execution_count": 0,
      "outputs": []
    },
    {
      "cell_type": "code",
      "metadata": {
        "id": "1qQM9a5JIjZ_",
        "colab_type": "code",
        "colab": {}
      },
      "source": [
        "yearPivotDF.filter('population_age_0_to_14 < 0').count()"
      ],
      "execution_count": 0,
      "outputs": []
    },
    {
      "cell_type": "code",
      "metadata": {
        "id": "FgK6c1AUIjaC",
        "colab_type": "code",
        "colab": {}
      },
      "source": [
        "yearPivotDF.filter('population_age_65_and_above < 0').count()"
      ],
      "execution_count": 0,
      "outputs": []
    },
    {
      "cell_type": "code",
      "metadata": {
        "id": "fEWBW6L_IjaE",
        "colab_type": "code",
        "colab": {}
      },
      "source": [
        "yearPivotDF.filter('population < 0').count()"
      ],
      "execution_count": 0,
      "outputs": []
    },
    {
      "cell_type": "code",
      "metadata": {
        "id": "Stt9REkAIjaG",
        "colab_type": "code",
        "colab": {}
      },
      "source": [
        "yearPivotDF.filter('cellular_subscriptions < 0').count()"
      ],
      "execution_count": 0,
      "outputs": []
    },
    {
      "cell_type": "code",
      "metadata": {
        "id": "I1kCGKgKIjaJ",
        "colab_type": "code",
        "colab": {}
      },
      "source": [
        "yearPivotDF.filter('broadband_subscriptions < 0').count()"
      ],
      "execution_count": 0,
      "outputs": []
    },
    {
      "cell_type": "code",
      "metadata": {
        "id": "KAW43yXgIjaK",
        "colab_type": "code",
        "colab": {}
      },
      "source": [
        "yearPivotDF.filter('population_age_0_to_14 > population').count()"
      ],
      "execution_count": 0,
      "outputs": []
    },
    {
      "cell_type": "code",
      "metadata": {
        "id": "gcrAXK-rIjaM",
        "colab_type": "code",
        "colab": {}
      },
      "source": [
        "yearPivotDF.filter('population_age_15_64 > population').count()"
      ],
      "execution_count": 0,
      "outputs": []
    },
    {
      "cell_type": "code",
      "metadata": {
        "id": "eRngzxaOIjaO",
        "colab_type": "code",
        "colab": {}
      },
      "source": [
        "yearPivotDF.filter('population_age_65_and_above > population').count()"
      ],
      "execution_count": 0,
      "outputs": []
    },
    {
      "cell_type": "code",
      "metadata": {
        "id": "a4yY-DjHIjaQ",
        "colab_type": "code",
        "colab": {}
      },
      "source": [
        "yearPivotDF.filter('(population_age_0_to_14 + population_age_15_64 + population_age_65_and_above) > population').count()"
      ],
      "execution_count": 0,
      "outputs": []
    },
    {
      "cell_type": "code",
      "metadata": {
        "id": "nBOY8t0qIjaS",
        "colab_type": "code",
        "colab": {}
      },
      "source": [
        "#Write the yearly totals to a CSV File\n",
        "yearPivotDF \\\n",
        "    .select(col('year')\n",
        "            , col('population').cast(DecimalType(38, 2))\n",
        "            , col('population_age_0_to_14').cast(DecimalType(38, 2))\n",
        "            , col('population_age_15_64').cast(DecimalType(38, 2))\n",
        "            , col('population_age_65_and_above').cast(DecimalType(38, 2))\n",
        "            , col('broadband_subscriptions').cast(DecimalType(38, 2))\n",
        "            , col('cellular_subscriptions').cast(DecimalType(38, 2))) \\\n",
        "    .coalesce(1) \\\n",
        "    .write.csv('../output/YearlyStats', mode='overwrite', header='true')"
      ],
      "execution_count": 0,
      "outputs": []
    },
    {
      "cell_type": "markdown",
      "metadata": {
        "id": "H9a8uap-IjaU",
        "colab_type": "text"
      },
      "source": [
        "#### Getting yearly regional totals"
      ]
    },
    {
      "cell_type": "code",
      "metadata": {
        "id": "oKMFOB_dIjaW",
        "colab_type": "code",
        "colab": {}
      },
      "source": [
        "regionalIndicators = indicatorsDF.join(countryDimFinal\n",
        "                                       , indicatorsDF.wb_country_code == countryDim.wb_country_code\n",
        "                                       , \"inner\") \\\n",
        "    .select(countryDim.region\n",
        "            , indicatorsDF.wb_country_code\n",
        "            , indicatorsDF.year\n",
        "            , indicatorsDF.indicator_code\n",
        "            , indicatorsDF.indicator_value)"
      ],
      "execution_count": 0,
      "outputs": []
    },
    {
      "cell_type": "code",
      "metadata": {
        "id": "CGLDlDTqIjaa",
        "colab_type": "code",
        "colab": {}
      },
      "source": [
        "showDF(regionalIndicators)"
      ],
      "execution_count": 0,
      "outputs": []
    },
    {
      "cell_type": "code",
      "metadata": {
        "id": "w4FKQNnNIjae",
        "colab_type": "code",
        "colab": {}
      },
      "source": [
        "regionalPivot = regionalIndicators.groupBy('region', 'year').pivot('indicator_code').sum('indicator_value')"
      ],
      "execution_count": 0,
      "outputs": []
    },
    {
      "cell_type": "code",
      "metadata": {
        "id": "tDrds7lvIjag",
        "colab_type": "code",
        "colab": {}
      },
      "source": [
        "showDF(regionalPivot.orderBy('region', 'year'), limitRows=100)"
      ],
      "execution_count": 0,
      "outputs": []
    },
    {
      "cell_type": "code",
      "metadata": {
        "id": "MSb7tqENIjah",
        "colab_type": "code",
        "colab": {}
      },
      "source": [
        "#Write the regional-yearly totals to a CSV File\n",
        "regionalPivot.filter('region is not null') \\\n",
        "    .orderBy('region','year') \\\n",
        "    .withColumnRenamed('IT.CEL.SETS', 'cellular_subscriptions') \\\n",
        "    .withColumnRenamed('IT.NET.BBND', 'broadband_subscriptions') \\\n",
        "    .withColumnRenamed('SP.POP.0014.TO', 'population_age_0_to_14') \\\n",
        "    .withColumnRenamed('SP.POP.1564.TO', 'population_age_15_64') \\\n",
        "    .withColumnRenamed('SP.POP.65UP.TO', 'population_age_65_and_above') \\\n",
        "    .withColumnRenamed('SP.POP.TOTL', 'population') \\\n",
        "    .select(col('region')\n",
        "            , col('year')\n",
        "            , col('population').cast(DecimalType(38, 2))\n",
        "            , col('population_age_0_to_14').cast(DecimalType(38, 2))\n",
        "            , col('population_age_15_64').cast(DecimalType(38, 2))\n",
        "            , col('population_age_65_and_above').cast(DecimalType(38, 2))\n",
        "            , col('broadband_subscriptions').cast(DecimalType(38, 2))\n",
        "            , col('cellular_subscriptions').cast(DecimalType(38, 2))) \\\n",
        "    .coalesce(1) \\\n",
        "    .write.csv('../output/RegionalStats', mode='overwrite', header='true')"
      ],
      "execution_count": 0,
      "outputs": []
    },
    {
      "cell_type": "markdown",
      "metadata": {
        "id": "qqOIjpyGIjaj",
        "colab_type": "text"
      },
      "source": [
        "## Short Exercise\n",
        "\n",
        "Becky finds the regional metrics interesting, but she wants to look at these metrics at a country level for each year.  Can you adapt the regional pivot that we computed earlier to get the metrics for each year and country ?"
      ]
    },
    {
      "cell_type": "code",
      "metadata": {
        "id": "kdWfge-gIjaj",
        "colab_type": "code",
        "colab": {}
      },
      "source": [
        "#Your solution here"
      ],
      "execution_count": 0,
      "outputs": []
    },
    {
      "cell_type": "markdown",
      "metadata": {
        "id": "8BGefKQzIjal",
        "colab_type": "text"
      },
      "source": [
        "## Exercise\n",
        "\n",
        "Kat wants to identify the countries that are conducive to start a business.  She thinks that it would suffice to look at the most recent metrics for the following:\n",
        "- Gross National Income (GNI)\n",
        "- Cost of business start-up procedures\n",
        "- Number of days required to start a business (male, female, and overall)\n",
        "- Number of start-up procedures to register a business\n",
        "- GDP\n",
        "- GDP per capita\n",
        "- Business Regulatory Environment\n",
        "- Ease of doing business index (Only available in 2017)\n",
        "\n",
        "Write the data to a csv file called 'BusinessStartupData'."
      ]
    },
    {
      "cell_type": "code",
      "metadata": {
        "id": "bc62GKeklxgT",
        "colab_type": "code",
        "colab": {}
      },
      "source": [
        "#Hint - Start by matching up indicators that might have descriptions matching what Kat is looking for. E.g.:\n",
        "showDF(seriesDim.filter(\"indicator_name = 'GNI'\" +\n",
        "                        \" or lower(indicator_name) like '%business%'\").orderBy(\"indicator_code\"), limitRows = 500)"
      ],
      "execution_count": 0,
      "outputs": []
    },
    {
      "cell_type": "code",
      "metadata": {
        "id": "sQwU1o3wbWuN",
        "colab_type": "code",
        "colab": {}
      },
      "source": [
        "# Your code here"
      ],
      "execution_count": 0,
      "outputs": []
    },
    {
      "cell_type": "markdown",
      "metadata": {
        "id": "1YaOJmkFQ4Vo",
        "colab_type": "text"
      },
      "source": [
        "# Modeling\n",
        "\n",
        "Let's use Spark to do some modeling!"
      ]
    },
    {
      "cell_type": "code",
      "metadata": {
        "id": "eeGgCrbAfu0s",
        "colab_type": "code",
        "colab": {}
      },
      "source": [
        "from pyspark.ml.feature import VectorAssembler\n",
        "from pyspark.ml.regression import LinearRegression"
      ],
      "execution_count": 0,
      "outputs": []
    },
    {
      "cell_type": "markdown",
      "metadata": {
        "id": "q9lO0FaVpE5p",
        "colab_type": "text"
      },
      "source": [
        "Let's take the dataset you created in the previous exercise and predict 'Ease of Business' using other indicators."
      ]
    },
    {
      "cell_type": "code",
      "metadata": {
        "id": "VKRzGp3jZRDx",
        "colab_type": "code",
        "colab": {}
      },
      "source": [
        "countryBusinessStartupPivot = spark.read.format(\"csv\") \\\n",
        "    .option(\"header\", \"true\") \\\n",
        "    .option(\"inferSchema\", \"true\") \\\n",
        "    .load(\"BusinessStartupData\")"
      ],
      "execution_count": 0,
      "outputs": []
    },
    {
      "cell_type": "code",
      "metadata": {
        "id": "cJwMJkeljHPJ",
        "colab_type": "code",
        "outputId": "546a9d7b-5e09-4a70-dcf1-e196b1835ba8",
        "colab": {
          "base_uri": "https://localhost:8080/",
          "height": 459
        }
      },
      "source": [
        "#Input all the features in one vector column\n",
        "features = [\"GDP\", \"GDP Per Capita\", \"GNI\", \"Startup Time\",\n",
        "            \"Startup Cost\", \"Startup Cost Pct of GNI\", \"Startup Procedures\", \"Business Regulation\"]\n",
        "\n",
        "# Vector Assembler combines raw features and features generated by different feature transformers \n",
        "# into the single feature vector needed to train ML models.\n",
        "assembler = VectorAssembler(inputCols=features, outputCol = 'Attributes')\n",
        "\n",
        "output = assembler.setHandleInvalid(\"skip\").transform(countryBusinessStartupPivot.filter(col('Ease of Business').isNotNull()))\n",
        "\n",
        "#'Attributes' are the input features and 'Ease of Business' is the target column.\n",
        "finalized_data = output.select(\"Attributes\", \"Ease of Business\")\n",
        "\n",
        "finalized_data.show()"
      ],
      "execution_count": 0,
      "outputs": [
        {
          "output_type": "stream",
          "text": [
            "+--------------------+----------------+\n",
            "|          Attributes|Ease of Business|\n",
            "+--------------------+----------------+\n",
            "|[9.103831278E9,83...|          151.00|\n",
            "|[1.4342385958E10,...|          179.00|\n",
            "|[7.91061837E9,729...|          181.00|\n",
            "|[3.369621899E9,45...|          160.00|\n",
            "|[2.27748E11,1178....|          147.00|\n",
            "|[1.6833353304E10,...|          140.00|\n",
            "|[7.32044136E8,667...|          129.00|\n",
            "|[1.2424107945E10,...|          180.00|\n",
            "|[1.627046588E9,35...|          172.00|\n",
            "|[1.3421822111E10,...|          143.00|\n",
            "|[6.315715818E9,10...|           77.00|\n",
            "|[8.458800788E9,96...|          123.00|\n",
            "|[8.085878853E9,39...|          144.00|\n",
            "|[7.326645709E9,20...|           44.00|\n",
            "|[4.062377053E8,37...|           89.00|\n",
            "|[1.4858345267E10,...|          138.00|\n",
            "|[1.084315801E9,53...|          146.00|\n",
            "|[1.790417939E8,33...|          149.00|\n",
            "|[1.928690844E8,16...|          157.00|\n",
            "|[3.0547324905E10,...|          182.00|\n",
            "+--------------------+----------------+\n",
            "only showing top 20 rows\n",
            "\n"
          ],
          "name": "stdout"
        }
      ]
    },
    {
      "cell_type": "code",
      "metadata": {
        "id": "pNjm4hMZkYnX",
        "colab_type": "code",
        "outputId": "a35da3f6-481b-4b91-9caa-4ced70cf034c",
        "colab": {
          "base_uri": "https://localhost:8080/",
          "height": 357
        }
      },
      "source": [
        "#Split training and testing data\n",
        "train_data,test_data = finalized_data.randomSplit([0.8,0.2])\n",
        "\n",
        "regressor = LinearRegression(featuresCol = 'Attributes', labelCol = 'Ease of Business')\n",
        "\n",
        "#Learn to fit the model from training set\n",
        "regressor = regressor.fit(train_data)\n",
        "\n",
        "#To predict the prices on testing set\n",
        "pred = regressor.evaluate(test_data)\n",
        "\n",
        "#Predict the model\n",
        "pred.predictions.show()"
      ],
      "execution_count": 0,
      "outputs": [
        {
          "output_type": "stream",
          "text": [
            "+--------------------+----------------+------------------+\n",
            "|          Attributes|Ease of Business|        prediction|\n",
            "+--------------------+----------------+------------------+\n",
            "|[1.6833353304E10,...|          140.00| 121.2723619115442|\n",
            "|[8.085878853E9,39...|          144.00|113.02867824748559|\n",
            "|[1.928690844E8,16...|          157.00|152.27471530136742|\n",
            "|[7.38041747E8,378...|           87.00| 113.8654191546719|\n",
            "|[1.035620086E10,4...|          162.00|140.91541281804916|\n",
            "|[1.9856634053E10,...|          105.00|118.24913879612849|\n",
            "|[8.867464234E8,14...|          116.00| 140.6478735145592|\n",
            "|[2.1413614655E10,...|          183.00|146.91456643648525|\n",
            "|[1.67771E11,1029....|          177.00|147.25354925521165|\n",
            "|[5.060218541E8,68...|           98.00|100.12359132745794|\n",
            "|[7.6149479922E10,...|          170.00|148.91975047555985|\n",
            "|[1.1102149875E10,...|          141.00| 99.22452006961993|\n",
            "|[2.234759342E9,28...|           75.00|120.16114635444366|\n",
            "|[1.192299136E9,93...|          178.00|167.72587930932013|\n",
            "|[1.1825367387E10,...|           62.00|115.92104965646254|\n",
            "+--------------------+----------------+------------------+\n",
            "\n"
          ],
          "name": "stdout"
        }
      ]
    },
    {
      "cell_type": "code",
      "metadata": {
        "id": "Bssy1adkwxHu",
        "colab_type": "code",
        "outputId": "a5ba8d17-83eb-4a3d-ab8d-303765e09d91",
        "colab": {
          "base_uri": "https://localhost:8080/",
          "height": 328
        }
      },
      "source": [
        "pd.set_option('display.float_format', lambda x: '%.5f' % x)\n",
        "\n",
        "summary = pd.DataFrame({'feature': ['Intercept'] + features,\n",
        "                        'coefficient': [regressor.intercept] + regressor.coefficients.tolist(),\n",
        "                        'pvalue': regressor.summary.pValues})\n",
        "summary"
      ],
      "execution_count": 0,
      "outputs": [
        {
          "output_type": "execute_result",
          "data": {
            "text/html": [
              "<div>\n",
              "<style scoped>\n",
              "    .dataframe tbody tr th:only-of-type {\n",
              "        vertical-align: middle;\n",
              "    }\n",
              "\n",
              "    .dataframe tbody tr th {\n",
              "        vertical-align: top;\n",
              "    }\n",
              "\n",
              "    .dataframe thead th {\n",
              "        text-align: right;\n",
              "    }\n",
              "</style>\n",
              "<table border=\"1\" class=\"dataframe\">\n",
              "  <thead>\n",
              "    <tr style=\"text-align: right;\">\n",
              "      <th></th>\n",
              "      <th>feature</th>\n",
              "      <th>coefficient</th>\n",
              "      <th>pvalue</th>\n",
              "    </tr>\n",
              "  </thead>\n",
              "  <tbody>\n",
              "    <tr>\n",
              "      <th>0</th>\n",
              "      <td>Intercept</td>\n",
              "      <td>235.93695</td>\n",
              "      <td>0.49581</td>\n",
              "    </tr>\n",
              "    <tr>\n",
              "      <th>1</th>\n",
              "      <td>GDP</td>\n",
              "      <td>-0.00000</td>\n",
              "      <td>0.65339</td>\n",
              "    </tr>\n",
              "    <tr>\n",
              "      <th>2</th>\n",
              "      <td>GDP Per Capita</td>\n",
              "      <td>0.00098</td>\n",
              "      <td>0.62237</td>\n",
              "    </tr>\n",
              "    <tr>\n",
              "      <th>3</th>\n",
              "      <td>GNI</td>\n",
              "      <td>0.00000</td>\n",
              "      <td>0.12556</td>\n",
              "    </tr>\n",
              "    <tr>\n",
              "      <th>4</th>\n",
              "      <td>Startup Time</td>\n",
              "      <td>-0.37788</td>\n",
              "      <td>0.25113</td>\n",
              "    </tr>\n",
              "    <tr>\n",
              "      <th>5</th>\n",
              "      <td>Startup Cost</td>\n",
              "      <td>0.00000</td>\n",
              "      <td>0.39788</td>\n",
              "    </tr>\n",
              "    <tr>\n",
              "      <th>6</th>\n",
              "      <td>Startup Cost Pct of GNI</td>\n",
              "      <td>0.10033</td>\n",
              "      <td>0.17010</td>\n",
              "    </tr>\n",
              "    <tr>\n",
              "      <th>7</th>\n",
              "      <td>Startup Procedures</td>\n",
              "      <td>2.56238</td>\n",
              "      <td>0.00007</td>\n",
              "    </tr>\n",
              "    <tr>\n",
              "      <th>8</th>\n",
              "      <td>Business Regulation</td>\n",
              "      <td>-38.09088</td>\n",
              "      <td>0.00000</td>\n",
              "    </tr>\n",
              "  </tbody>\n",
              "</table>\n",
              "</div>"
            ],
            "text/plain": [
              "                   feature  coefficient  pvalue\n",
              "0                Intercept    235.93695 0.49581\n",
              "1                      GDP     -0.00000 0.65339\n",
              "2           GDP Per Capita      0.00098 0.62237\n",
              "3                      GNI      0.00000 0.12556\n",
              "4             Startup Time     -0.37788 0.25113\n",
              "5             Startup Cost      0.00000 0.39788\n",
              "6  Startup Cost Pct of GNI      0.10033 0.17010\n",
              "7       Startup Procedures      2.56238 0.00007\n",
              "8      Business Regulation    -38.09088 0.00000"
            ]
          },
          "metadata": {
            "tags": []
          },
          "execution_count": 92
        }
      ]
    },
    {
      "cell_type": "code",
      "metadata": {
        "id": "TeWd5onfqfEG",
        "colab_type": "code",
        "outputId": "3edb7081-31b2-45a2-81ac-774e64043b4d",
        "colab": {
          "base_uri": "https://localhost:8080/",
          "height": 85
        }
      },
      "source": [
        "from pyspark.ml.evaluation import RegressionEvaluator\n",
        "eval = RegressionEvaluator(labelCol=\"Ease of Business\", predictionCol=\"prediction\", metricName=\"rmse\")\n",
        "\n",
        "# Root Mean Square Error\n",
        "rmse = eval.evaluate(pred.predictions)\n",
        "print(\"RMSE: %.3f\" % rmse)\n",
        "\n",
        "# Mean Square Error\n",
        "mse = eval.evaluate(pred.predictions, {eval.metricName: \"mse\"})\n",
        "print(\"MSE: %.3f\" % mse)\n",
        "\n",
        "# Mean Absolute Error\n",
        "mae = eval.evaluate(pred.predictions, {eval.metricName: \"mae\"})\n",
        "print(\"MAE: %.3f\" % mae)\n",
        "\n",
        "# r2 - coefficient of determination\n",
        "r2 = eval.evaluate(pred.predictions, {eval.metricName: \"r2\"})\n",
        "print(\"r2: %.3f\" %r2)"
      ],
      "execution_count": 0,
      "outputs": [
        {
          "output_type": "stream",
          "text": [
            "RMSE: 29.115\n",
            "MSE: 847.686\n",
            "MAE: 25.363\n",
            "r2: 0.430\n"
          ],
          "name": "stdout"
        }
      ]
    }
  ]
}